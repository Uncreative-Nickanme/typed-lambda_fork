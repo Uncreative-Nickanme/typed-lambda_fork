{
 "cells": [
  {
   "cell_type": "code",
   "execution_count": 1,
   "metadata": {},
   "outputs": [],
   "source": [
    "import jax.random as jrn\n",
    "import jax.numpy as jnp\n",
    "import jax.lax as jla\n",
    "import jax\n",
    "import random\n",
    "\n",
    "from tqdm import trange\n",
    "from jax import tree_util\n",
    "\n",
    "from game.run import dummy_history"
   ]
  },
  {
   "cell_type": "code",
   "execution_count": 2,
   "metadata": {},
   "outputs": [],
   "source": [
    "# dummy_history_jit = jax.jit(dummy_history, static_argnames=[\"player_total\", \"game_len\"])\n",
    "\n",
    "# key = jrn.PRNGKey(random.randint(0, 1000))\n",
    "# dummy_history_jit(key, 10, 30);"
   ]
  },
  {
   "cell_type": "code",
   "execution_count": 3,
   "metadata": {},
   "outputs": [],
   "source": [
    "# def block_until_ready(pytree):\n",
    "#     return tree_util.tree_map(lambda x: x.block_until_ready(), pytree)\n",
    "\n",
    "\n",
    "# for _ in trange(100000):\n",
    "#     r = dummy_history_jit(key, 10, 30)\n",
    "#     block_until_ready(r)"
   ]
  },
  {
   "cell_type": "code",
   "execution_count": 4,
   "metadata": {},
   "outputs": [
    {
     "name": "stderr",
     "output_type": "stream",
     "text": [
      "WARNING:jax._src.lib.xla_bridge:No GPU/TPU found, falling back to CPU. (Set TF_CPP_MIN_LOG_LEVEL=0 and rerun for more info.)\n"
     ]
    },
    {
     "data": {
      "text/plain": [
       "(DeviceArray([[2, 4],\n",
       "              [2, 4],\n",
       "              [1, 4],\n",
       "              [1, 4],\n",
       "              [1, 3],\n",
       "              [1, 2],\n",
       "              [1, 2],\n",
       "              [1, 2],\n",
       "              [1, 1],\n",
       "              [0, 1],\n",
       "              [0, 1]], dtype=int32),\n",
       " DeviceArray([[False,  True],\n",
       "              [False,  True],\n",
       "              [False,  True],\n",
       "              [False,  True],\n",
       "              [False, False],\n",
       "              [False, False],\n",
       "              [False, False],\n",
       "              [False, False],\n",
       "              [False, False],\n",
       "              [False, False],\n",
       "              [False, False]], dtype=bool),\n",
       " DeviceArray([1, 0, 1, 0, 0, 2, 1, 0, 0, 1, 0], dtype=int32))"
      ]
     },
     "execution_count": 4,
     "metadata": {},
     "output_type": "execute_result"
    }
   ],
   "source": [
    "key = jrn.PRNGKey(random.randint(0, 1000))\n",
    "batched_history = dummy_history(key, 5, 11, prob_vote=0.6)\n",
    "\n",
    "history = {}\n",
    "\n",
    "for k, v in batched_history.items():\n",
    "    history[k] = v[-1]\n",
    "\n",
    "\n",
    "history[\"board\"], history[\"winner\"], history[\"tracker\"]"
   ]
  },
  {
   "cell_type": "code",
   "execution_count": 5,
   "metadata": {},
   "outputs": [
    {
     "name": "stdout",
     "output_type": "stream",
     "text": [
      "voted   1 1 0 0 1 0 1 1 1 0 1\n",
      "winner  [0 1] [0 1] [0 1] [0 1] [0 0] [0 0] [0 0] [0 0] [0 0] [0 0] [0 0]\n",
      "roles   2 0 0 0 1\n"
     ]
    }
   ],
   "source": [
    "player = 1\n",
    "\n",
    "print(\"voted  \", *history[\"voted\"][:, player].astype(int))\n",
    "print(\"winner \", *history[\"winner\"].astype(int))\n",
    "print(\"roles  \", *history[\"roles\"][0].astype(int))"
   ]
  },
  {
   "cell_type": "code",
   "execution_count": 6,
   "metadata": {},
   "outputs": [
    {
     "data": {
      "text/plain": [
       "DeviceArray([[1., 0.],\n",
       "             [1., 0.],\n",
       "             [0., 1.],\n",
       "             [0., 1.],\n",
       "             [1., 0.],\n",
       "             [0., 1.],\n",
       "             [1., 0.],\n",
       "             [1., 0.],\n",
       "             [1., 0.],\n",
       "             [0., 1.],\n",
       "             [1., 0.]], dtype=float32)"
      ]
     },
     "execution_count": 6,
     "metadata": {},
     "output_type": "execute_result"
    }
   ],
   "source": [
    "def vote_data(player: int, winner, voted, roles, **rest):\n",
    "    \"\"\"\n",
    "    \"\"\"\n",
    "    role = roles[0, player]\n",
    "    role = role != 0 # only check if F\n",
    "\n",
    "    # 0: L win, 1: F win, \n",
    "    # also 0 for no winner\n",
    "    wins = winner[0].argmax()\n",
    "    invs = wins != role\n",
    "\n",
    "    # iff there is a winner\n",
    "    done = winner[0].sum() > 0\n",
    "\n",
    "    acts = voted[:, player].astype(jnp.int32)\n",
    "    rang = jnp.arange(acts.shape[0])\n",
    "\n",
    "    data = jnp.zeros((*acts.shape, 2))\n",
    "    data = data.at[rang, acts].set(1)\n",
    "\n",
    "    data = jla.select(invs, 1 - data, data)\n",
    "    data = jla.select(done, data, data.at[:].set(0.5))\n",
    "\n",
    "    return data\n",
    "\n",
    "\n",
    "vote_data(player, **history)"
   ]
  },
  {
   "cell_type": "code",
   "execution_count": 7,
   "metadata": {},
   "outputs": [
    {
     "name": "stdout",
     "output_type": "stream",
     "text": [
      "presi 1 0 3 2 1 0 4 3 2 1 0\n",
      "shown [0 0] [1 2] [0 0] [1 2] [1 2] [0 0] [0 0] [2 1] [1 2] [0 0] [0 3]\n",
      "given [0 0] [1 1] [0 0] [0 2] [1 1] [0 0] [0 0] [1 1] [1 1] [0 0] [0 2]\n"
     ]
    }
   ],
   "source": [
    "print(\"presi\", *history[\"presi\"].astype(int))\n",
    "print(\"shown\", *history[\"presi_shown\"].astype(int))\n",
    "print(\"given\", *history[\"chanc_shown\"].astype(int))"
   ]
  },
  {
   "cell_type": "code",
   "execution_count": 15,
   "metadata": {},
   "outputs": [
    {
     "data": {
      "text/plain": [
       "(DeviceArray([0, 1, 0, 0, 1, 0, 0, 0, 1, 0, 1], dtype=int32),\n",
       " DeviceArray([1, 0, 1, 0, 0, 1, 1, 0, 0, 1, 0], dtype=int32))"
      ]
     },
     "execution_count": 15,
     "metadata": {},
     "output_type": "execute_result"
    }
   ],
   "source": [
    "def presi_discard_data(player: int, roles, winner, presi_shown, chanc_shown, **_):\n",
    "    \"\"\"\n",
    "    \"\"\"\n",
    "    role = roles[0, player]\n",
    "    role = role != 0 # only check if F\n",
    "\n",
    "    # 0: L win, 1: F win, \n",
    "    # also 0 for no winner\n",
    "    wins = winner[0].argmax()\n",
    "    invs = wins != role\n",
    "\n",
    "    # TODO could be [0, 0]\n",
    "    acts = presi_shown - chanc_shown\n",
    "    acts = acts.argmax(axis=-1)\n",
    "\n",
    "    skip = presi_shown.sum(axis=-1) == 0\n",
    "\n",
    "    \n",
    "\n",
    "\n",
    "    return acts, skip.astype(int)\n",
    "\n",
    "\n",
    "presi_discard_data(player, **history)"
   ]
  },
  {
   "cell_type": "code",
   "execution_count": 9,
   "metadata": {},
   "outputs": [],
   "source": [
    "# model(**history, acts=acts, role=role) -> wins"
   ]
  },
  {
   "cell_type": "code",
   "execution_count": 10,
   "metadata": {},
   "outputs": [],
   "source": [
    "# player, {hisotry x ...} -> history x action (wie gut)\n",
    "\n"
   ]
  }
 ],
 "metadata": {
  "kernelspec": {
   "display_name": "Python 3",
   "language": "python",
   "name": "python3"
  },
  "language_info": {
   "codemirror_mode": {
    "name": "ipython",
    "version": 3
   },
   "file_extension": ".py",
   "mimetype": "text/x-python",
   "name": "python",
   "nbconvert_exporter": "python",
   "pygments_lexer": "ipython3",
   "version": "3.10.8"
  },
  "orig_nbformat": 4,
  "vscode": {
   "interpreter": {
    "hash": "e7370f93d1d0cde622a1f8e1c04877d8463912d04d973331ad4851f04de6915a"
   }
  }
 },
 "nbformat": 4,
 "nbformat_minor": 2
}
