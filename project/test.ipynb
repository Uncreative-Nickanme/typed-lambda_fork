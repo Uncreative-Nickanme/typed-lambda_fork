{
 "cells": [
  {
   "cell_type": "code",
   "execution_count": 13,
   "metadata": {},
   "outputs": [],
   "source": [
    "import jax.random as jrn\n",
    "import jax.numpy as jnp\n",
    "import jax.lax as jla\n",
    "import jax\n",
    "import random\n",
    "\n",
    "from game.run import dummy_history"
   ]
  },
  {
   "cell_type": "code",
   "execution_count": 7,
   "metadata": {},
   "outputs": [],
   "source": [
    "player_total = 7\n",
    "game_len = 15\n",
    "\n",
    "key = jrn.PRNGKey(random.randint(0, 1000))\n",
    "history = dummy_history(key, player_total, game_len, prob_vote=0.7)"
   ]
  },
  {
   "cell_type": "code",
   "execution_count": 11,
   "metadata": {},
   "outputs": [
    {
     "name": "stdout",
     "output_type": "stream",
     "text": [
      "t=14\n"
     ]
    }
   ],
   "source": [
    "t = random.randint(0, game_len)\n",
    "\n",
    "print(f\"{t=}\")\n",
    "\n",
    "state = {}\n",
    "\n",
    "for k, v in history.items():\n",
    "    state[k] = v[t]\n"
   ]
  }
 ],
 "metadata": {
  "kernelspec": {
   "display_name": "Python 3",
   "language": "python",
   "name": "python3"
  },
  "language_info": {
   "codemirror_mode": {
    "name": "ipython",
    "version": 3
   },
   "file_extension": ".py",
   "mimetype": "text/x-python",
   "name": "python",
   "nbconvert_exporter": "python",
   "pygments_lexer": "ipython3",
   "version": "3.10.8"
  },
  "orig_nbformat": 4,
  "vscode": {
   "interpreter": {
    "hash": "e7370f93d1d0cde622a1f8e1c04877d8463912d04d973331ad4851f04de6915a"
   }
  }
 },
 "nbformat": 4,
 "nbformat_minor": 2
}
