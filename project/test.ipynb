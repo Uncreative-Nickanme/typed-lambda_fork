{
 "cells": [
  {
   "cell_type": "code",
   "execution_count": 8,
   "metadata": {},
   "outputs": [],
   "source": [
    "import jax.random as jrn\n",
    "import jax.numpy as jnp\n",
    "import jax.lax as jla\n",
    "import jax\n",
    "import random\n",
    "\n",
    "import jaxtyping as jtp\n",
    "\n",
    "from tqdm import trange\n",
    "from jax import tree_util\n",
    "\n",
    "from game.run import dummy_history"
   ]
  },
  {
   "attachments": {},
   "cell_type": "markdown",
   "metadata": {},
   "source": [
    "# TODO\n",
    "\n",
    "do not calculate full bool targets from last history"
   ]
  },
  {
   "cell_type": "code",
   "execution_count": 54,
   "metadata": {},
   "outputs": [],
   "source": [
    "player_total = 7\n",
    "game_len = 15\n",
    "\n",
    "key = jrn.PRNGKey(random.randint(0, 1000))\n",
    "batched_history = dummy_history(key, player_total, game_len, prob_vote=0.7)\n"
   ]
  },
  {
   "cell_type": "code",
   "execution_count": 78,
   "metadata": {},
   "outputs": [
    {
     "name": "stdout",
     "output_type": "stream",
     "text": [
      "player 4\n",
      "time   13\n",
      "role   0\n",
      "winner 0 1\n",
      "voted  1 1 1 1 0 1 0 0 1 1 1 1 1 1 0\n",
      "rating 0 0 0 0 1 0 1 1 0 0 0 0 0 0 1\n"
     ]
    }
   ],
   "source": [
    "def rate_votes(state):\n",
    "    \"\"\"\n",
    "    \"\"\"\n",
    "\n",
    "    def rate(player: int, winner, voted, roles):\n",
    "        vote = voted[0, player]\n",
    "\n",
    "        rating = jnp.zeros([2])\n",
    "        rating = rating.at[vote.astype(int)].set(1)\n",
    "\n",
    "        # invert in case opponent wins\n",
    "        role = roles[0, player]\n",
    "        role = role != 0 # iff player is F\n",
    "        \n",
    "        invs = winner.argmax() != role\n",
    "        rating = jla.select(invs, 1 - rating, rating)\n",
    "\n",
    "        # if no winner, set rating to 0.5\n",
    "        skip = winner.sum() == 0\n",
    "        rating = jla.select(skip, rating.at[:].set(0.5), rating)\n",
    "        \n",
    "        return rating\n",
    "\n",
    "    rate_vmap = jax.vmap(rate, in_axes=(None, None, 0, 0))\n",
    "    rate_vmap_vmap = jax.vmap(rate_vmap, in_axes=(0, None, None, None))\n",
    "\n",
    "    player_total = state[\"roles\"].shape[-1]\n",
    "    players = jnp.arange(player_total)\n",
    "    \n",
    "    winner = state[\"winner\"][-1, 0]\n",
    "    \n",
    "    voted = state[\"voted\"][1:]\n",
    "    roles = state[\"roles\"][1:]\n",
    "\n",
    "    return rate_vmap_vmap(players, winner, voted, roles) # type: ignore\n",
    "\n",
    "\n",
    "player = random.randint(0, player_total)\n",
    "time = random.randint(0, game_len)\n",
    "\n",
    "print(\"player\", player)\n",
    "print(\"time  \", time)\n",
    "print(\"role  \", batched_history[\"roles\"][time, 0, player])\n",
    "\n",
    "print(\"winner\", *batched_history[\"winner\"][-1, 0].astype(int))\n",
    "\n",
    "print(\"voted \", *batched_history[\"voted\"][-1, :, player].astype(int))\n",
    "\n",
    "print(\"rating\", *rate_votes(batched_history)[player].argmax(axis=-1).astype(int)[::-1]) #.shape"
   ]
  },
  {
   "cell_type": "code",
   "execution_count": 4,
   "metadata": {},
   "outputs": [
    {
     "name": "stdout",
     "output_type": "stream",
     "text": [
      "voted   1\n"
     ]
    },
    {
     "data": {
      "text/plain": [
       "DeviceArray([0., 1.], dtype=float32)"
      ]
     },
     "execution_count": 4,
     "metadata": {},
     "output_type": "execute_result"
    }
   ],
   "source": [
    "def vote_rating(player: int, endwin, voted, roles):\n",
    "    \"\"\"\n",
    "    \"\"\"\n",
    "    vote = voted[0, player]\n",
    "\n",
    "    rating = jnp.zeros([2])\n",
    "    rating = rating.at[vote.astype(int)].set(1)\n",
    "\n",
    "    # invert in case opponent wins\n",
    "    role = roles[0, player]\n",
    "    role = role != 0 # iff player is F\n",
    "    \n",
    "    invs = endwin.argmax() != role\n",
    "    rating = jla.select(invs, 1 - rating, rating)\n",
    "\n",
    "    # if no winner, set rating to 0.5\n",
    "    skip = endwin.sum() == 0\n",
    "    rating = jla.select(skip, rating.at[:].set(0.5), rating)\n",
    "    \n",
    "    return rating\n",
    "\n",
    "\n",
    "print(\"voted  \", history[\"voted\"][0, player].astype(int))\n",
    "\n",
    "vote_rating(player, endwin, history[\"voted\"], history[\"roles\"])"
   ]
  },
  {
   "cell_type": "code",
   "execution_count": 5,
   "metadata": {},
   "outputs": [
    {
     "name": "stdout",
     "output_type": "stream",
     "text": [
      "[1 1 1 1 1 1 1 1 0 1 1 1 0 1 1]\n"
     ]
    },
    {
     "data": {
      "text/plain": [
       "DeviceArray([[0., 1.],\n",
       "             [0., 1.],\n",
       "             [1., 0.],\n",
       "             [0., 1.],\n",
       "             [0., 1.],\n",
       "             [0., 1.],\n",
       "             [1., 0.],\n",
       "             [0., 1.],\n",
       "             [0., 1.],\n",
       "             [0., 1.],\n",
       "             [0., 1.],\n",
       "             [0., 1.],\n",
       "             [0., 1.],\n",
       "             [0., 1.],\n",
       "             [0., 1.]], dtype=float32)"
      ]
     },
     "execution_count": 5,
     "metadata": {},
     "output_type": "execute_result"
    }
   ],
   "source": [
    "vote_rating_vmap = jax.vmap(vote_rating, in_axes=(None, None, 0, 0), out_axes=0)\n",
    "\n",
    "print(batched_history[\"voted\"][-1, :, player].astype(int))\n",
    "\n",
    "vote_rating_vmap(player, endwin, batched_history[\"voted\"][1:], batched_history[\"roles\"][1:])"
   ]
  },
  {
   "cell_type": "code",
   "execution_count": 6,
   "metadata": {},
   "outputs": [
    {
     "data": {
      "text/plain": [
       "(5, 15, 2)"
      ]
     },
     "execution_count": 6,
     "metadata": {},
     "output_type": "execute_result"
    }
   ],
   "source": [
    "vote_rating_vmap_vmap = jax.vmap(vote_rating_vmap, in_axes=(0, None, None, None), out_axes=0)\n",
    "\n",
    "players = jnp.arange(5)\n",
    "\n",
    "vote_rating_vmap_vmap(players, endwin, batched_history[\"voted\"][1:], batched_history[\"roles\"][1:]).shape"
   ]
  },
  {
   "cell_type": "code",
   "execution_count": 6,
   "metadata": {},
   "outputs": [
    {
     "name": "stdout",
     "output_type": "stream",
     "text": [
      "voted   0 0 0 1 1 1 1 0 0 0 0\n",
      "winner  [1 0] [0 0] [0 0] [0 0] [0 0] [0 0] [0 0] [0 0] [0 0] [0 0] [0 0]\n",
      "roles   2 0 0 0 1\n"
     ]
    }
   ],
   "source": [
    "player = 1\n",
    "\n",
    "print(\"voted  \", *history[\"voted\"][:, player].astype(int))\n",
    "print(\"winner \", *history[\"winner\"].astype(int))\n",
    "print(\"roles  \", *history[\"roles\"][0].astype(int))"
   ]
  },
  {
   "cell_type": "code",
   "execution_count": null,
   "metadata": {},
   "outputs": [],
   "source": []
  },
  {
   "cell_type": "code",
   "execution_count": 7,
   "metadata": {},
   "outputs": [],
   "source": [
    "def presi_disc_rating(player, endwin, roles, presi_shown, chanc_shown):\n",
    "    raise NotImplementedError"
   ]
  },
  {
   "cell_type": "code",
   "execution_count": 5,
   "metadata": {},
   "outputs": [
    {
     "data": {
      "text/plain": [
       "Array([[0., 1.],\n",
       "       [0., 1.],\n",
       "       [0., 1.],\n",
       "       [1., 0.],\n",
       "       [0., 1.],\n",
       "       [0., 1.],\n",
       "       [0., 1.],\n",
       "       [0., 1.],\n",
       "       [1., 0.],\n",
       "       [0., 1.],\n",
       "       [0., 1.]], dtype=float32)"
      ]
     },
     "execution_count": 5,
     "metadata": {},
     "output_type": "execute_result"
    }
   ],
   "source": [
    "def vote_data(player: int, winner, voted, roles, **_):\n",
    "    \"\"\"\n",
    "    \"\"\"\n",
    "    role = roles[0, player]\n",
    "    role = role != 0 # only check if F\n",
    "\n",
    "    # 0: L win, 1: F win, \n",
    "    # also 0 for no winner\n",
    "    wins = winner[0].argmax()\n",
    "    invs = wins != role\n",
    "\n",
    "    # iff there is a winner\n",
    "    skip = winner[0].sum() > 0\n",
    "\n",
    "    acts = voted[:, player].astype(jnp.int32)\n",
    "    rang = jnp.arange(acts.shape[0])\n",
    "\n",
    "    data = jnp.zeros((*acts.shape, 2))\n",
    "    data = data.at[rang, acts].set(1)\n",
    "\n",
    "    data = jla.select(invs, 1 - data, data)\n",
    "    data = jla.select(skip, data, data.at[:].set(0.5))\n",
    "\n",
    "    return data\n",
    "\n",
    "\n",
    "vote_data(player, **history)"
   ]
  },
  {
   "cell_type": "code",
   "execution_count": 6,
   "metadata": {},
   "outputs": [
    {
     "name": "stdout",
     "output_type": "stream",
     "text": [
      "presi 0 3 1 0 3 1 0 3 2 1 0\n",
      "shown [0 3] [2 1] [1 2] [0 0] [2 1] [1 2] [1 2] [1 2] [2 1] [0 3] [1 2]\n",
      "given [0 2] [2 0] [0 2] [0 0] [1 1] [1 1] [0 2] [0 2] [1 1] [0 2] [0 2]\n"
     ]
    }
   ],
   "source": [
    "print(\"presi\", *history[\"presi\"].astype(int))\n",
    "print(\"shown\", *history[\"presi_shown\"].astype(int))\n",
    "print(\"given\", *history[\"chanc_shown\"].astype(int))"
   ]
  },
  {
   "cell_type": "code",
   "execution_count": 8,
   "metadata": {},
   "outputs": [
    {
     "data": {
      "text/plain": [
       "Array([[0. , 1. ],\n",
       "       [0. , 1. ],\n",
       "       [1. , 0. ],\n",
       "       [0.5, 0.5],\n",
       "       [1. , 0. ],\n",
       "       [0. , 1. ],\n",
       "       [1. , 0. ],\n",
       "       [1. , 0. ],\n",
       "       [1. , 0. ],\n",
       "       [0. , 1. ],\n",
       "       [1. , 0. ]], dtype=float32)"
      ]
     },
     "execution_count": 8,
     "metadata": {},
     "output_type": "execute_result"
    }
   ],
   "source": [
    "def presi_discard_data(player: int, roles, winner, presi_shown, chanc_shown, **_):\n",
    "    \"\"\"\n",
    "    \"\"\"\n",
    "    role = roles[0, player]\n",
    "    role = role != 0 # only check if F\n",
    "\n",
    "    # 0: L win, 1: F win, \n",
    "    # also 0 for no winner\n",
    "    wins = winner[0].argmax()\n",
    "    invs = wins != role\n",
    "\n",
    "    acts = presi_shown - chanc_shown\n",
    "    acts = acts.argmax(axis=-1)\n",
    "\n",
    "    skip = presi_shown.sum(axis=-1) == 0\n",
    "\n",
    "    data = jnp.zeros((*acts.shape, 2))\n",
    "\n",
    "    rang = jnp.arange(acts.shape[0])\n",
    "    data = data.at[rang, acts].set(1)\n",
    "\n",
    "    data = jnp.where(skip[:, None], 0.5, data)\n",
    "    data = jla.select(invs, 1 - data, data) # type: ignore\n",
    "\n",
    "    return data\n",
    "\n",
    "\n",
    "presi_discard_data(player, **history)"
   ]
  },
  {
   "cell_type": "code",
   "execution_count": 18,
   "metadata": {},
   "outputs": [
    {
     "name": "stdout",
     "output_type": "stream",
     "text": [
      "shown [0 2] [2 0] [0 2] [0 0] [1 1] [1 1] [0 2] [0 2] [1 1] [0 2] [0 2]\n",
      "board [3 7] [3 6] [2 6] [2 5] [2 5] [1 5] [0 5] [0 4] [0 3] [0 2] [0 1]\n",
      "disc  [0 2] [3 5] [2 4] [1 3] [1 3] [0 2] [5 5] [4 4] [3 3] [1 3] [1 1]\n"
     ]
    }
   ],
   "source": [
    "print(\"shown\", *history[\"chanc_shown\"].astype(int))\n",
    "print(\"board\", *history[\"board\"].astype(int))\n",
    "print(\"disc \", *history[\"disc\"].astype(int))"
   ]
  },
  {
   "cell_type": "code",
   "execution_count": 28,
   "metadata": {},
   "outputs": [
    {
     "data": {
      "text/plain": [
       "(Array([1, 0, 1, 0, 0, 0, 1, 1, 1, 1], dtype=int32),\n",
       " Array([0, 0, 0, 1, 0, 0, 0, 0, 0, 0], dtype=int32),\n",
       " Array([[0. , 1. ],\n",
       "        [1. , 0. ],\n",
       "        [0. , 1. ],\n",
       "        [0.5, 0.5],\n",
       "        [1. , 0. ],\n",
       "        [1. , 0. ],\n",
       "        [0. , 1. ],\n",
       "        [0. , 1. ],\n",
       "        [0. , 1. ],\n",
       "        [0. , 1. ],\n",
       "        [0.5, 0.5]], dtype=float32))"
      ]
     },
     "execution_count": 28,
     "metadata": {},
     "output_type": "execute_result"
    }
   ],
   "source": [
    "def chanc_discard_data(player: int, roles, winner, chanc_shown, board, **_):\n",
    "    \"\"\"\n",
    "    \"\"\"\n",
    "    role = roles[0, player]\n",
    "    role = role != 0 # only check if F\n",
    "\n",
    "    # 0: L win, 1: F win, \n",
    "    # also 0 for no winner\n",
    "    wins = winner[0].argmax()\n",
    "    invs = wins != role\n",
    "\n",
    "    acts = board[:-1] - board[1:]\n",
    "    skip = acts.sum(axis=-1) == 0\n",
    "\n",
    "    acts = acts.argmax(axis=-1)\n",
    "\n",
    "    data = jnp.zeros((*acts.shape, 2))\n",
    " \n",
    "    rang = jnp.arange(acts.shape[0])\n",
    "    data = data.at[rang, acts].set(1)\n",
    "\n",
    "    data = jnp.where(skip[:, None], 0.5, data)\n",
    "    data = jla.select(invs, 1 - data, data) # type: ignore\n",
    "\n",
    "    last = jnp.array([0.5, 0.5])[None]\n",
    "    data = jnp.concatenate([data, last], axis=0)\n",
    "\n",
    "    return acts, skip.astype(int), data\n",
    "\n",
    "\n",
    "chanc_discard_data(player, **history)"
   ]
  },
  {
   "cell_type": "code",
   "execution_count": 10,
   "metadata": {},
   "outputs": [],
   "source": []
  }
 ],
 "metadata": {
  "kernelspec": {
   "display_name": "Python 3",
   "language": "python",
   "name": "python3"
  },
  "language_info": {
   "codemirror_mode": {
    "name": "ipython",
    "version": 3
   },
   "file_extension": ".py",
   "mimetype": "text/x-python",
   "name": "python",
   "nbconvert_exporter": "python",
   "pygments_lexer": "ipython3",
   "version": "3.10.8"
  },
  "orig_nbformat": 4,
  "vscode": {
   "interpreter": {
    "hash": "e7370f93d1d0cde622a1f8e1c04877d8463912d04d973331ad4851f04de6915a"
   }
  }
 },
 "nbformat": 4,
 "nbformat_minor": 2
}
