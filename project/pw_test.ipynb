{
 "cells": [
  {
   "cell_type": "code",
   "execution_count": 25,
   "metadata": {},
   "outputs": [],
   "source": [
    "import jax.random as jrn\n",
    "import jax.numpy as jnp\n",
    "from bots import bots, run, mask\n"
   ]
  },
  {
   "cell_type": "code",
   "execution_count": 78,
   "metadata": {},
   "outputs": [],
   "source": [
    "propose_bot = run.fuse(bots.propose_random, bots.propose_random, bots.propose_random)\n",
    "\n",
    "\n",
    "def vote_bot_random(**_):\n",
    "    return jnp.array(0.55)\n",
    "\n",
    "\n",
    "vote_bot = run.fuse(vote_bot_random, vote_bot_random, vote_bot_random)\n",
    "\n",
    "presi_bot = run.fuse(\n",
    "    bots.discard_true,\n",
    "    bots.discard_false,\n",
    "    bots.discard_false,\n",
    ")\n",
    "\n",
    "chanc_bot = run.fuse(bots.discard_true, bots.discard_false, bots.discard_false)\n",
    "\n",
    "shoot_bot = run.fuse(bots.shoot_random, bots.shoot_random, bots.shoot_random)\n",
    "\n",
    "total = 5\n",
    "\n",
    "run_func = run.closure(\n",
    "    total,\n",
    "    15,\n",
    "    propose_bot=propose_bot,\n",
    "    vote_bot=vote_bot,\n",
    "    presi_bot=presi_bot,\n",
    "    chanc_bot=chanc_bot,\n",
    "    shoot_bot=shoot_bot,\n",
    ")\n"
   ]
  },
  {
   "cell_type": "code",
   "execution_count": 77,
   "metadata": {},
   "outputs": [],
   "source": [
    "params = {\n",
    "    \"propose\": 0,\n",
    "    \"vote\": 0,\n",
    "    \"presi\": 0,\n",
    "    \"chanc\": 0,\n",
    "    \"shoot\": 0,\n",
    "}\n",
    "\n",
    "state = run_func(jrn.PRNGKey(0), params)  # type: ignore\n",
    "state = mask.mask(state)\n",
    "\n",
    "player = 4\n",
    "\n",
    "for k, v in state.items():\n",
    "    state[k] = v[player]\n"
   ]
  },
  {
   "cell_type": "code",
   "execution_count": 85,
   "metadata": {},
   "outputs": [
    {
     "data": {
      "text/plain": [
       "(Array([-1, -1,  0,  0,  0,  1,  0,  1, -1,  1, -1,  0,  0,  0], dtype=int32),\n",
       " Array([ 0,  4,  3,  2,  1,  0,  4,  3,  2,  1,  0, -1, -1, -1], dtype=int32),\n",
       " Array([ 3,  2,  3,  3,  3,  3,  1,  1,  4,  3,  2, -1, -1, -1], dtype=int32))"
      ]
     },
     "execution_count": 85,
     "metadata": {},
     "output_type": "execute_result"
    }
   ],
   "source": [
    "board = state[\"board\"]\n",
    "tracker = state[\"tracker\"]\n",
    "presi = state[\"presi\"]\n",
    "chanc = state[\"chanc\"]\n",
    "\n",
    "new_policies = board[:-1] - board[1:]\n",
    "# print(new_policies)\n",
    "\n",
    "enacted = tracker == 0\n",
    "enacted &= presi != -1\n",
    "\n",
    "fometer_enact = new_policies  # * elected[:, None]\n",
    "\n",
    "fometer_enact = fometer_enact.argmax(-1)\n",
    "fometer_enact = 2 * fometer_enact - 1\n",
    "fometer_enact = fometer_enact * enacted[:-1]\n",
    "fometer_enact, presi[:-1], chanc[:-1]"
   ]
  },
  {
   "cell_type": "code",
   "execution_count": 86,
   "metadata": {},
   "outputs": [
    {
     "data": {
      "text/plain": [
       "(Array([-1.,  1., -1.,  1., -1.], dtype=float32),\n",
       " Array([ 0.,  1., -2.,  1., -1.], dtype=float32))"
      ]
     },
     "execution_count": 86,
     "metadata": {},
     "output_type": "execute_result"
    }
   ],
   "source": [
    "fometer_presi_enact = jnp.zeros([total])\n",
    "fometer_presi_enact = fometer_presi_enact.at[presi[:-1]].add(fometer_enact)\n",
    "\n",
    "fometer_chan_enact = jnp.zeros([total])\n",
    "fometer_chan_enact = fometer_chan_enact.at[chanc[:-1]].add(fometer_enact)\n",
    "\n",
    "fometer_presi_enact, fometer_chan_enact"
   ]
  },
  {
   "cell_type": "code",
   "execution_count": 68,
   "metadata": {},
   "outputs": [
    {
     "data": {
      "text/plain": [
       "(Array([0, 0, 3, 2, 1, 0, 1, 0, 0, 0, 0, 0, 0, 0, 0], dtype=int32),\n",
       " Array([[5, 3],\n",
       "        [4, 3],\n",
       "        [3, 3],\n",
       "        [2, 3],\n",
       "        [2, 3],\n",
       "        [2, 3],\n",
       "        [2, 2],\n",
       "        [2, 2],\n",
       "        [2, 1],\n",
       "        [1, 1],\n",
       "        [1, 0],\n",
       "        [0, 0],\n",
       "        [0, 0],\n",
       "        [0, 0],\n",
       "        [0, 0]], dtype=int32))"
      ]
     },
     "execution_count": 68,
     "metadata": {},
     "output_type": "execute_result"
    }
   ],
   "source": [
    "tracker, board  # [:-1]\n"
   ]
  },
  {
   "cell_type": "code",
   "execution_count": 69,
   "metadata": {},
   "outputs": [
    {
     "data": {
      "text/plain": [
       "Array([ 0,  4,  3,  2,  1,  0,  4,  3,  2,  1,  0, -1, -1, -1, -1], dtype=int32)"
      ]
     },
     "execution_count": 69,
     "metadata": {},
     "output_type": "execute_result"
    }
   ],
   "source": [
    "state[\"presi\"]\n"
   ]
  },
  {
   "cell_type": "code",
   "execution_count": null,
   "metadata": {},
   "outputs": [],
   "source": []
  }
 ],
 "metadata": {
  "kernelspec": {
   "display_name": "Python 3",
   "language": "python",
   "name": "python3"
  },
  "language_info": {
   "codemirror_mode": {
    "name": "ipython",
    "version": 3
   },
   "file_extension": ".py",
   "mimetype": "text/x-python",
   "name": "python",
   "nbconvert_exporter": "python",
   "pygments_lexer": "ipython3",
   "version": "3.10.9"
  },
  "orig_nbformat": 4,
  "vscode": {
   "interpreter": {
    "hash": "e7370f93d1d0cde622a1f8e1c04877d8463912d04d973331ad4851f04de6915a"
   }
  }
 },
 "nbformat": 4,
 "nbformat_minor": 2
}
