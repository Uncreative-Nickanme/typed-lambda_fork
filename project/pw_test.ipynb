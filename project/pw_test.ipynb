{
 "cells": [
  {
   "cell_type": "code",
   "execution_count": 1,
   "metadata": {},
   "outputs": [],
   "source": [
    "import jax.random as jrn\n",
    "import jax.numpy as jnp\n",
    "import jax.lax as jla\n",
    "import jax\n",
    "import random\n",
    "\n",
    "from pprint import pprint\n",
    "\n",
    "from game.run import dummy_history"
   ]
  },
  {
   "cell_type": "code",
   "execution_count": 2,
   "metadata": {},
   "outputs": [
    {
     "name": "stderr",
     "output_type": "stream",
     "text": [
      "No GPU/TPU found, falling back to CPU. (Set TF_CPP_MIN_LOG_LEVEL=0 and rerun for more info.)\n"
     ]
    }
   ],
   "source": [
    "player_total = 9\n",
    "game_len = 15\n",
    "\n",
    "key = jrn.PRNGKey(random.randint(0, 1000))\n",
    "history = dummy_history(key, player_total, game_len, prob_vote=0.7)"
   ]
  },
  {
   "cell_type": "code",
   "execution_count": 3,
   "metadata": {},
   "outputs": [
    {
     "name": "stdout",
     "output_type": "stream",
     "text": [
      "t=10\n"
     ]
    },
    {
     "data": {
      "text/plain": [
       "dict_keys(['roles', 'presi', 'proposed', 'chanc', 'voted', 'tracker', 'draw', 'disc', 'presi_shown', 'chanc_shown', 'board', 'killed', 'winner'])"
      ]
     },
     "execution_count": 3,
     "metadata": {},
     "output_type": "execute_result"
    }
   ],
   "source": [
    "t = random.randint(0, game_len)\n",
    "\n",
    "print(f\"{t=}\")\n",
    "\n",
    "state = {}\n",
    "\n",
    "for k, v in history.items():\n",
    "    state[k] = v[t]\n",
    "\n",
    "\n",
    "state.keys()"
   ]
  },
  {
   "cell_type": "code",
   "execution_count": 5,
   "metadata": {},
   "outputs": [
    {
     "name": "stdout",
     "output_type": "stream",
     "text": [
      "k='board'\n",
      "v.shape=(9, 15, 11)\n",
      "\n",
      "k='chanc'\n",
      "v.shape=(9, 15, 10)\n",
      "\n",
      "k='chanc_shown'\n",
      "v.shape=(9, 15, 4)\n",
      "\n",
      "k='killed'\n",
      "v.shape=(9, 15, 9)\n",
      "\n",
      "k='presi'\n",
      "v.shape=(9, 15, 10)\n",
      "\n",
      "k='presi_shown'\n",
      "v.shape=(9, 15, 5)\n",
      "\n",
      "k='proposed'\n",
      "v.shape=(9, 15, 10)\n",
      "\n",
      "k='roles'\n",
      "v.shape=(9, 15, 27)\n",
      "\n",
      "k='tracker'\n",
      "v.shape=(9, 15, 3)\n",
      "\n",
      "k='voted'\n",
      "v.shape=(9, 15, 9)\n",
      "\n"
     ]
    },
    {
     "data": {
      "text/plain": [
       "98"
      ]
     },
     "execution_count": 5,
     "metadata": {},
     "output_type": "execute_result"
    }
   ],
   "source": [
    "from bots.tokenize import tokenize\n",
    "\n",
    "tokenized = tokenize(state)\n",
    "\n",
    "size = 0\n",
    "\n",
    "for k, v in tokenized.items():\n",
    "    print(f\"{k=}\")\n",
    "    print(f\"{v.shape=}\")\n",
    "    print()\n",
    "\n",
    "    size += v.shape[-1]\n",
    "\n",
    "\n",
    "size"
   ]
  },
  {
   "cell_type": "code",
   "execution_count": 104,
   "metadata": {},
   "outputs": [
    {
     "name": "stdout",
     "output_type": "stream",
     "text": [
      "player 9\n",
      "role 1\n",
      "[[2 1 0 1 0 0 0 0 1]\n",
      " [2 1 0 1 0 0 0 0 1]\n",
      " [2 1 0 1 0 0 0 0 1]\n",
      " [2 1 0 1 0 0 0 0 1]\n",
      " [2 1 0 1 0 0 0 0 1]\n",
      " [2 1 0 1 0 0 0 0 1]\n",
      " [2 1 0 1 0 0 0 0 1]\n",
      " [2 1 0 1 0 0 0 0 1]\n",
      " [2 1 0 1 0 0 0 0 1]\n",
      " [2 1 0 1 0 0 0 0 1]\n",
      " [2 1 0 1 0 0 0 0 1]\n",
      " [2 1 0 1 0 0 0 0 1]\n",
      " [2 1 0 1 0 0 0 0 1]\n",
      " [2 1 0 1 0 0 0 0 1]\n",
      " [2 1 0 1 0 0 0 0 1]]\n"
     ]
    }
   ],
   "source": [
    "def mask_roles(player: int, roles, **_):\n",
    "    # roles do not change over time\n",
    "    history = roles.shape[0]\n",
    "    roles = roles[0]\n",
    "\n",
    "    player_total = roles.shape[-1]\n",
    "    mask_full = jnp.arange(player_total) == player\n",
    "\n",
    "    role = roles[player] == 1\n",
    "    mask_facist = roles == 1\n",
    "    mask_facist |= roles == 2\n",
    "\n",
    "    mask = jla.select(role, mask_facist, mask_full)\n",
    "    masked =  roles * mask\n",
    "\n",
    "    return jnp.tile(masked, (history, 1))\n",
    "\n",
    "\n",
    "player = random.randint(0, player_total)\n",
    "print(\"player\", player)\n",
    "\n",
    "role = state[\"roles\"][0, player]\n",
    "print(\"role\", role)\n",
    "\n",
    "masked_roles = mask_roles(player, **state)\n",
    "print(masked_roles)"
   ]
  },
  {
   "cell_type": "code",
   "execution_count": 31,
   "metadata": {},
   "outputs": [
    {
     "name": "stdout",
     "output_type": "stream",
     "text": [
      "player=2\n",
      "presi=Array([ 5,  4,  3,  1,  8,  7,  6,  5,  4,  3,  2,  1,  0, -1, -1], dtype=int32)\n",
      "masked_presi_shown=Array([[0, 0],\n",
      "       [0, 0],\n",
      "       [0, 0],\n",
      "       [0, 0],\n",
      "       [0, 0],\n",
      "       [0, 0],\n",
      "       [0, 0],\n",
      "       [0, 0],\n",
      "       [0, 0],\n",
      "       [0, 0],\n",
      "       [1, 2],\n",
      "       [0, 0],\n",
      "       [0, 0],\n",
      "       [0, 0],\n",
      "       [0, 0]], dtype=int32)\n"
     ]
    }
   ],
   "source": [
    "def mask_presi_shown(player: int, presi, presi_shown, **_):\n",
    "    mask = player == presi\n",
    "    return presi_shown * mask[:, None]\n",
    "    \n",
    "    \n",
    "player = random.randint(0, player_total-1)\n",
    "print(f\"{player=}\")\n",
    "\n",
    "presi = state[\"presi\"]\n",
    "print(f\"{presi=}\")\n",
    "\n",
    "masked_presi_shown = mask_presi_shown(player, **state)\n",
    "print(f\"{masked_presi_shown=}\")"
   ]
  },
  {
   "cell_type": "code",
   "execution_count": 33,
   "metadata": {},
   "outputs": [
    {
     "name": "stdout",
     "output_type": "stream",
     "text": [
      "player=8\n",
      "chanc=Array([ 6,  1,  6,  6,  4,  7,  7,  1,  0,  6,  8,  2,  4, -1, -1], dtype=int32)\n",
      "masked_chanc_shown=Array([[0, 0],\n",
      "       [0, 0],\n",
      "       [0, 0],\n",
      "       [0, 0],\n",
      "       [0, 0],\n",
      "       [0, 0],\n",
      "       [0, 0],\n",
      "       [0, 0],\n",
      "       [0, 0],\n",
      "       [0, 0],\n",
      "       [0, 2],\n",
      "       [0, 0],\n",
      "       [0, 0],\n",
      "       [0, 0],\n",
      "       [0, 0]], dtype=int32)\n"
     ]
    }
   ],
   "source": [
    "def mask_chanc_shown(player: int, chanc, chanc_shown, **_):\n",
    "    mask = player == chanc\n",
    "    return chanc_shown * mask[:, None]\n",
    "\n",
    "\n",
    "player = random.randint(0, player_total-1)\n",
    "print(f\"{player=}\")\n",
    "\n",
    "chanc = state[\"chanc\"]\n",
    "print(f\"{chanc=}\")\n",
    "\n",
    "masked_chanc_shown = mask_chanc_shown(player, **state)\n",
    "print(f\"{masked_chanc_shown=}\")"
   ]
  },
  {
   "cell_type": "code",
   "execution_count": 48,
   "metadata": {},
   "outputs": [
    {
     "name": "stdout",
     "output_type": "stream",
     "text": [
      "player=1\n",
      "roles\n",
      "2 1 0 1 0 0 0 0 1\n",
      "presi\n",
      "5 4 3 1 8 7 6 5 4 3 2 1 0 -1 -1\n",
      "proposed\n",
      "6 1 8 6 4 8 7 1 0 6 8 2 4 -1 -1\n",
      "chanc\n",
      "6 1 6 6 4 7 7 1 0 6 8 2 4 -1 -1\n",
      "voted\n",
      "[0 1 0 1 0 1 1 1 1] [0 1 0 1 0 0 0 1 1] [0 1 0 0 1 0 0 0 1] [0 1 0 1 1 1 0 0 1] [0 1 0 0 1 1 0 1 1] [0 1 0 0 0 0 0 1 1] [0 1 0 1 1 0 1 1 0] [0 1 0 0 0 1 0 1 1] [1 0 0 0 1 1 1 1 1] [1 1 1 1 0 0 1 1 1] [1 0 1 1 1 1 1 1 1] [0 1 1 1 1 1 0 1 1] [0 0 0 1 1 1 1 0 1] [0 0 0 0 0 0 0 0 0] [0 0 0 0 0 0 0 0 0]\n",
      "tracker\n",
      "0 0 1 0 0 1 0 0 0 0 0 0 0 0 0\n",
      "presi_shown\n",
      "[0 0] [0 0] [0 0] [1 2] [0 0] [0 0] [0 0] [0 0] [0 0] [0 0] [0 0] [1 2] [0 0] [0 0] [0 0]\n",
      "chanc_shown\n",
      "[0 0] [2 0] [0 0] [0 0] [0 0] [0 0] [0 0] [2 0] [0 0] [0 0] [0 0] [0 0] [0 0] [0 0] [0 0]\n",
      "board\n",
      "[4 7] [3 7] [2 7] [2 7] [2 6] [1 6] [1 6] [1 5] [0 5] [0 4] [0 3] [0 2] [0 1] [0 0] [0 0]\n",
      "killed\n",
      "[1 0 1 0 0 0 0 0 0] [1 0 1 0 0 0 0 0 0] [1 0 1 0 0 0 0 0 0] [1 0 1 0 0 0 0 0 0] [1 0 1 0 0 0 0 0 0] [1 0 1 0 0 0 0 0 0] [1 0 1 0 0 0 0 0 0] [1 0 1 0 0 0 0 0 0] [1 0 1 0 0 0 0 0 0] [0 0 1 0 0 0 0 0 0] [0 0 0 0 0 0 0 0 0] [0 0 0 0 0 0 0 0 0] [0 0 0 0 0 0 0 0 0] [0 0 0 0 0 0 0 0 0] [0 0 0 0 0 0 0 0 0]\n"
     ]
    }
   ],
   "source": [
    "def mask_state(player: int, state):\n",
    "    masked = {}\n",
    "\n",
    "    for k, v in state.items():\n",
    "        if k in [\"draw\", \"disc\", \"winner\"]:\n",
    "            continue\n",
    "\n",
    "        elif k == \"roles\":\n",
    "            masked[k] = mask_roles(player, **state)\n",
    "\n",
    "        \n",
    "        elif k == \"presi_shown\":\n",
    "            masked[k] = mask_presi_shown(player, **state)\n",
    "\n",
    "        elif k == \"chanc_shown\":\n",
    "            masked[k] = mask_chanc_shown(player, **state)\n",
    "\n",
    "        else:\n",
    "            masked[k] = v\n",
    "\n",
    "    return masked\n",
    "\n",
    "\n",
    "player = random.randint(0, player_total-1)\n",
    "print(f\"{player=}\")\n",
    "\n",
    "# mask_state_vmap = jax.vmap(mask_state, in_axes=(0, None))\n",
    "# players = jnp.arange(player_total)\n",
    "# masked_state = mask_state_vmap(players, state)\n",
    "\n",
    "masked_state = mask_state(player, state)\n",
    "\n",
    "for k, v in masked_state.items():\n",
    "    print(k)\n",
    "    print(*v.astype(int))"
   ]
  },
  {
   "cell_type": "code",
   "execution_count": 59,
   "metadata": {},
   "outputs": [
    {
     "name": "stdout",
     "output_type": "stream",
     "text": [
      "[2 1 0 1 0 0 0 0 1]\n",
      "[[0 0 1]\n",
      " [0 1 0]\n",
      " [1 0 0]\n",
      " [0 1 0]\n",
      " [1 0 0]\n",
      " [1 0 0]\n",
      " [1 0 0]\n",
      " [1 0 0]\n",
      " [0 1 0]]\n"
     ]
    }
   ],
   "source": [
    "def one_hot(x, maxval, minval=0):\n",
    "    return jnp.eye(maxval - minval)[x - minval]\n",
    "\n",
    "\n",
    "def roles_tokenize(roles, **_):\n",
    "    return one_hot(roles, 3)\n",
    "\n",
    "\n",
    "print(masked_state[\"roles\"])\n",
    "print(roles_tokenize(**masked_state).astype(int))"
   ]
  },
  {
   "cell_type": "code",
   "execution_count": 109,
   "metadata": {},
   "outputs": [
    {
     "name": "stdout",
     "output_type": "stream",
     "text": [
      "[ 5  4  3  1  8  7  6  5  4  3  2  1  0 -1 -1]\n",
      "[[0 0 0 0 0 0 1 0 0 0]\n",
      " [0 0 0 0 0 1 0 0 0 0]\n",
      " [0 0 0 0 1 0 0 0 0 0]\n",
      " [0 0 1 0 0 0 0 0 0 0]\n",
      " [0 0 0 0 0 0 0 0 0 1]\n",
      " [0 0 0 0 0 0 0 0 1 0]\n",
      " [0 0 0 0 0 0 0 1 0 0]\n",
      " [0 0 0 0 0 0 1 0 0 0]\n",
      " [0 0 0 0 0 1 0 0 0 0]\n",
      " [0 0 0 0 1 0 0 0 0 0]\n",
      " [0 0 0 1 0 0 0 0 0 0]\n",
      " [0 0 1 0 0 0 0 0 0 0]\n",
      " [0 1 0 0 0 0 0 0 0 0]\n",
      " [1 0 0 0 0 0 0 0 0 0]\n",
      " [1 0 0 0 0 0 0 0 0 0]]\n"
     ]
    }
   ],
   "source": [
    "def presi_tokenize(presi, roles, **_):\n",
    "    player_total = roles.shape[-1]\n",
    "    return one_hot(presi, player_total, -1)\n",
    "\n",
    "\n",
    "print(masked_state[\"presi\"])\n",
    "print(presi_tokenize(**masked_state).astype(int))"
   ]
  },
  {
   "cell_type": "code",
   "execution_count": 110,
   "metadata": {},
   "outputs": [
    {
     "name": "stdout",
     "output_type": "stream",
     "text": [
      "[ 6  1  8  6  4  8  7  1  0  6  8  2  4 -1 -1]\n",
      "[[0 0 0 0 0 0 0 1 0 0]\n",
      " [0 0 1 0 0 0 0 0 0 0]\n",
      " [0 0 0 0 0 0 0 0 0 1]\n",
      " [0 0 0 0 0 0 0 1 0 0]\n",
      " [0 0 0 0 0 1 0 0 0 0]\n",
      " [0 0 0 0 0 0 0 0 0 1]\n",
      " [0 0 0 0 0 0 0 0 1 0]\n",
      " [0 0 1 0 0 0 0 0 0 0]\n",
      " [0 1 0 0 0 0 0 0 0 0]\n",
      " [0 0 0 0 0 0 0 1 0 0]\n",
      " [0 0 0 0 0 0 0 0 0 1]\n",
      " [0 0 0 1 0 0 0 0 0 0]\n",
      " [0 0 0 0 0 1 0 0 0 0]\n",
      " [1 0 0 0 0 0 0 0 0 0]\n",
      " [1 0 0 0 0 0 0 0 0 0]]\n"
     ]
    }
   ],
   "source": [
    "def proposed_tokenize(proposed, roles, **_):\n",
    "    player_total = roles.shape[-1]\n",
    "    return one_hot(proposed, player_total, -1)\n",
    "\n",
    "\n",
    "print(masked_state[\"proposed\"])\n",
    "print(proposed_tokenize(**masked_state).astype(int))"
   ]
  },
  {
   "cell_type": "code",
   "execution_count": 63,
   "metadata": {},
   "outputs": [
    {
     "name": "stdout",
     "output_type": "stream",
     "text": [
      "[ 6  1  6  6  4  7  7  1  0  6  8  2  4 -1 -1]\n",
      "[[0 0 0 0 0 0 0 1 0 0]\n",
      " [0 0 1 0 0 0 0 0 0 0]\n",
      " [0 0 0 0 0 0 0 1 0 0]\n",
      " [0 0 0 0 0 0 0 1 0 0]\n",
      " [0 0 0 0 0 1 0 0 0 0]\n",
      " [0 0 0 0 0 0 0 0 1 0]\n",
      " [0 0 0 0 0 0 0 0 1 0]\n",
      " [0 0 1 0 0 0 0 0 0 0]\n",
      " [0 1 0 0 0 0 0 0 0 0]\n",
      " [0 0 0 0 0 0 0 1 0 0]\n",
      " [0 0 0 0 0 0 0 0 0 1]\n",
      " [0 0 0 1 0 0 0 0 0 0]\n",
      " [0 0 0 0 0 1 0 0 0 0]\n",
      " [1 0 0 0 0 0 0 0 0 0]\n",
      " [1 0 0 0 0 0 0 0 0 0]]\n"
     ]
    }
   ],
   "source": [
    "def chanc_tokenize(chanc, roles, **_):\n",
    "    player_total = roles.shape[-1]\n",
    "    return one_hot(chanc, player_total, -1)\n",
    "\n",
    "\n",
    "print(masked_state[\"chanc\"])\n",
    "print(chanc_tokenize(**masked_state).astype(int))"
   ]
  },
  {
   "cell_type": "code",
   "execution_count": 64,
   "metadata": {},
   "outputs": [
    {
     "name": "stdout",
     "output_type": "stream",
     "text": [
      "[[False  True False  True False  True  True  True  True]\n",
      " [False  True False  True False False False  True  True]\n",
      " [False  True False False  True False False False  True]\n",
      " [False  True False  True  True  True False False  True]\n",
      " [False  True False False  True  True False  True  True]\n",
      " [False  True False False False False False  True  True]\n",
      " [False  True False  True  True False  True  True False]\n",
      " [False  True False False False  True False  True  True]\n",
      " [ True False False False  True  True  True  True  True]\n",
      " [ True  True  True  True False False  True  True  True]\n",
      " [ True False  True  True  True  True  True  True  True]\n",
      " [False  True  True  True  True  True False  True  True]\n",
      " [False False False  True  True  True  True False  True]\n",
      " [False False False False False False False False False]\n",
      " [False False False False False False False False False]]\n",
      "[[0 1 0 1 0 1 1 1 1]\n",
      " [0 1 0 1 0 0 0 1 1]\n",
      " [0 1 0 0 1 0 0 0 1]\n",
      " [0 1 0 1 1 1 0 0 1]\n",
      " [0 1 0 0 1 1 0 1 1]\n",
      " [0 1 0 0 0 0 0 1 1]\n",
      " [0 1 0 1 1 0 1 1 0]\n",
      " [0 1 0 0 0 1 0 1 1]\n",
      " [1 0 0 0 1 1 1 1 1]\n",
      " [1 1 1 1 0 0 1 1 1]\n",
      " [1 0 1 1 1 1 1 1 1]\n",
      " [0 1 1 1 1 1 0 1 1]\n",
      " [0 0 0 1 1 1 1 0 1]\n",
      " [0 0 0 0 0 0 0 0 0]\n",
      " [0 0 0 0 0 0 0 0 0]]\n"
     ]
    }
   ],
   "source": [
    "def voted_tokenize(voted, **_):\n",
    "    return voted\n",
    "\n",
    "\n",
    "print(masked_state[\"voted\"])\n",
    "print(voted_tokenize(**masked_state).astype(int))"
   ]
  },
  {
   "cell_type": "code",
   "execution_count": 65,
   "metadata": {},
   "outputs": [
    {
     "name": "stdout",
     "output_type": "stream",
     "text": [
      "[0 0 1 0 0 1 0 0 0 0 0 0 0 0 0]\n",
      "[[1 0 0]\n",
      " [1 0 0]\n",
      " [0 1 0]\n",
      " [1 0 0]\n",
      " [1 0 0]\n",
      " [0 1 0]\n",
      " [1 0 0]\n",
      " [1 0 0]\n",
      " [1 0 0]\n",
      " [1 0 0]\n",
      " [1 0 0]\n",
      " [1 0 0]\n",
      " [1 0 0]\n",
      " [1 0 0]\n",
      " [1 0 0]]\n"
     ]
    }
   ],
   "source": [
    "def tracker_tokenize(tracker, **_):\n",
    "    return one_hot(tracker, 3)\n",
    "\n",
    "\n",
    "print(masked_state[\"tracker\"])\n",
    "print(tracker_tokenize(**masked_state).astype(int))"
   ]
  },
  {
   "cell_type": "code",
   "execution_count": 81,
   "metadata": {},
   "outputs": [
    {
     "name": "stdout",
     "output_type": "stream",
     "text": [
      "[[0 0]\n",
      " [0 0]\n",
      " [0 0]\n",
      " [1 2]\n",
      " [0 0]\n",
      " [0 0]\n",
      " [0 0]\n",
      " [0 0]\n",
      " [0 0]\n",
      " [0 0]\n",
      " [0 0]\n",
      " [1 2]\n",
      " [0 0]\n",
      " [0 0]\n",
      " [0 0]]\n",
      "[[1 0 0 0 0]\n",
      " [1 0 0 0 0]\n",
      " [1 0 0 0 0]\n",
      " [0 0 0 1 0]\n",
      " [1 0 0 0 0]\n",
      " [1 0 0 0 0]\n",
      " [1 0 0 0 0]\n",
      " [1 0 0 0 0]\n",
      " [1 0 0 0 0]\n",
      " [1 0 0 0 0]\n",
      " [1 0 0 0 0]\n",
      " [0 0 0 1 0]\n",
      " [1 0 0 0 0]\n",
      " [1 0 0 0 0]\n",
      " [1 0 0 0 0]]\n"
     ]
    }
   ],
   "source": [
    "def presi_shown_tokenize(presi_shown, **_):\n",
    "    return jnp.array([\n",
    "        # empty\n",
    "        presi_shown.sum(axis=-1) == 0,\n",
    "        # number of F policies\n",
    "        presi_shown[:, 0] == 3, # 0\n",
    "        presi_shown[:, 1] == 1, # 1\n",
    "        presi_shown[:, 1] == 2, # 2\n",
    "        presi_shown[:, 1] == 3, # 3\n",
    "    ]).T\n",
    "\n",
    "\n",
    "print(masked_state[\"presi_shown\"])\n",
    "print(presi_shown_tokenize(**masked_state).astype(int))"
   ]
  },
  {
   "cell_type": "code",
   "execution_count": 82,
   "metadata": {},
   "outputs": [
    {
     "name": "stdout",
     "output_type": "stream",
     "text": [
      "[[0 0]\n",
      " [2 0]\n",
      " [0 0]\n",
      " [0 0]\n",
      " [0 0]\n",
      " [0 0]\n",
      " [0 0]\n",
      " [2 0]\n",
      " [0 0]\n",
      " [0 0]\n",
      " [0 0]\n",
      " [0 0]\n",
      " [0 0]\n",
      " [0 0]\n",
      " [0 0]]\n",
      "[[1 0 0 0]\n",
      " [0 1 0 0]\n",
      " [1 0 0 0]\n",
      " [1 0 0 0]\n",
      " [1 0 0 0]\n",
      " [1 0 0 0]\n",
      " [1 0 0 0]\n",
      " [0 1 0 0]\n",
      " [1 0 0 0]\n",
      " [1 0 0 0]\n",
      " [1 0 0 0]\n",
      " [1 0 0 0]\n",
      " [1 0 0 0]\n",
      " [1 0 0 0]\n",
      " [1 0 0 0]]\n"
     ]
    }
   ],
   "source": [
    "def chanc_shown_tokenize(chanc_shown, **_):\n",
    "    return jnp.array([\n",
    "        # empty\n",
    "        chanc_shown.sum(axis=-1) == 0,\n",
    "        # number of F policies\n",
    "        chanc_shown[:, 0] == 2, # 0\n",
    "        chanc_shown[:, 1] == 1, # 1\n",
    "        chanc_shown[:, 1] == 2, # 2\n",
    "    ]).T\n",
    "\n",
    "\n",
    "print(masked_state[\"chanc_shown\"])\n",
    "print(chanc_shown_tokenize(**masked_state).astype(int))"
   ]
  },
  {
   "cell_type": "code",
   "execution_count": 83,
   "metadata": {},
   "outputs": [
    {
     "name": "stdout",
     "output_type": "stream",
     "text": [
      "[[4 7]\n",
      " [3 7]\n",
      " [2 7]\n",
      " [2 7]\n",
      " [2 6]\n",
      " [1 6]\n",
      " [1 6]\n",
      " [1 5]\n",
      " [0 5]\n",
      " [0 4]\n",
      " [0 3]\n",
      " [0 2]\n",
      " [0 1]\n",
      " [0 0]\n",
      " [0 0]]\n",
      "[[0 0 0 0 1 0 0 0 0 0 1]\n",
      " [0 0 0 1 0 0 0 0 0 0 1]\n",
      " [0 0 1 0 0 0 0 0 0 0 1]\n",
      " [0 0 1 0 0 0 0 0 0 0 1]\n",
      " [0 0 1 0 0 0 0 0 0 0 1]\n",
      " [0 1 0 0 0 0 0 0 0 0 1]\n",
      " [0 1 0 0 0 0 0 0 0 0 1]\n",
      " [0 1 0 0 0 0 0 0 0 0 1]\n",
      " [1 0 0 0 0 0 0 0 0 0 1]\n",
      " [1 0 0 0 0 0 0 0 0 1 0]\n",
      " [1 0 0 0 0 0 0 0 1 0 0]\n",
      " [1 0 0 0 0 0 0 1 0 0 0]\n",
      " [1 0 0 0 0 0 1 0 0 0 0]\n",
      " [1 0 0 0 0 1 0 0 0 0 0]\n",
      " [1 0 0 0 0 1 0 0 0 0 0]]\n"
     ]
    }
   ],
   "source": [
    "def board_tokenize(board, **_):\n",
    "    board_1 = board[:, 0]\n",
    "    board_1 = one_hot(board_1, 5)\n",
    "    \n",
    "    board_2 = board[:, 1]\n",
    "    board_2 = one_hot(board_2, 6)\n",
    "\n",
    "    return jnp.concatenate([board_1, board_2], axis=-1)\n",
    "\n",
    "\n",
    "print(masked_state[\"board\"])\n",
    "print(board_tokenize(**masked_state).astype(int))"
   ]
  },
  {
   "cell_type": "code",
   "execution_count": 108,
   "metadata": {},
   "outputs": [
    {
     "name": "stdout",
     "output_type": "stream",
     "text": [
      "[[ True False  True False False False False False False]\n",
      " [ True False  True False False False False False False]\n",
      " [ True False  True False False False False False False]\n",
      " [ True False  True False False False False False False]\n",
      " [ True False  True False False False False False False]\n",
      " [ True False  True False False False False False False]\n",
      " [ True False  True False False False False False False]\n",
      " [ True False  True False False False False False False]\n",
      " [ True False  True False False False False False False]\n",
      " [False False  True False False False False False False]\n",
      " [False False False False False False False False False]\n",
      " [False False False False False False False False False]\n",
      " [False False False False False False False False False]\n",
      " [False False False False False False False False False]\n",
      " [False False False False False False False False False]]\n",
      "[[1 0 1 0 0 0 0 0 0]\n",
      " [1 0 1 0 0 0 0 0 0]\n",
      " [1 0 1 0 0 0 0 0 0]\n",
      " [1 0 1 0 0 0 0 0 0]\n",
      " [1 0 1 0 0 0 0 0 0]\n",
      " [1 0 1 0 0 0 0 0 0]\n",
      " [1 0 1 0 0 0 0 0 0]\n",
      " [1 0 1 0 0 0 0 0 0]\n",
      " [1 0 1 0 0 0 0 0 0]\n",
      " [0 0 1 0 0 0 0 0 0]\n",
      " [0 0 0 0 0 0 0 0 0]\n",
      " [0 0 0 0 0 0 0 0 0]\n",
      " [0 0 0 0 0 0 0 0 0]\n",
      " [0 0 0 0 0 0 0 0 0]\n",
      " [0 0 0 0 0 0 0 0 0]]\n"
     ]
    }
   ],
   "source": [
    "def killed_tokenize(killed, **_):\n",
    "    return killed.astype(int)\n",
    "\n",
    "\n",
    "print(masked_state[\"killed\"])\n",
    "print(killed_tokenize(**masked_state).astype(int))"
   ]
  }
 ],
 "metadata": {
  "kernelspec": {
   "display_name": "Python 3",
   "language": "python",
   "name": "python3"
  },
  "language_info": {
   "codemirror_mode": {
    "name": "ipython",
    "version": 3
   },
   "file_extension": ".py",
   "mimetype": "text/x-python",
   "name": "python",
   "nbconvert_exporter": "python",
   "pygments_lexer": "ipython3",
   "version": "3.10.8 (main, Nov  1 2022, 14:18:21) [GCC 12.2.0]"
  },
  "orig_nbformat": 4,
  "vscode": {
   "interpreter": {
    "hash": "e7370f93d1d0cde622a1f8e1c04877d8463912d04d973331ad4851f04de6915a"
   }
  }
 },
 "nbformat": 4,
 "nbformat_minor": 2
}
