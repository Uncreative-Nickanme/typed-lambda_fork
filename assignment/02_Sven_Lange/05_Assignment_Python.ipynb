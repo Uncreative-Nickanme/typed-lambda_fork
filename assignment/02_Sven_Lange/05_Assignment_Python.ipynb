{
 "cells": [
  {
   "cell_type": "markdown",
   "metadata": {
    "id": "CyG8nU1B7btq"
   },
   "source": [
    "# Assignment 05\n",
    "#### Python Basics V - Text Processing\n",
    "\n",
    "This tutorial was written by Terry L. Ruas (University of Göttingen). The references for external contributors for which this material was anyhow adapted/inspired are in the Acknowledgments section (end of the document)."
   ]
  },
  {
   "cell_type": "markdown",
   "metadata": {
    "id": "fjMwJ_zg7btr"
   },
   "source": [
    "This notebook will cover the following tasks:\n",
    "\n",
    "1. Text Pre-Processing\n",
    "2. Simple Text Analysis"
   ]
  },
  {
   "cell_type": "markdown",
   "metadata": {
    "id": "zqcCFwVV7bts"
   },
   "source": [
    " ## Task 01 – Text Pre-Processing\n",
    "A computational analysis of natural language text typically requires several pre-processing steps, such as excluding irrelevant text parts, separating the text into words, phrases, or sentences depending on the analysis use case, removing so-called stop words, i.e., words that contain little to no semantic meaning, and normalizing the texts, e.g., by removing punctuation and capitalization.\n",
    "\n",
    "Use the *download_file()* function developed in the past assignments to download the plain text versions of Shakespeare’s play [Macbeth](https://ia802707.us.archive.org/1/items/macbeth02264gut/0ws3410.txt) and Bacon’s [New Atlantis](https://ia801309.us.archive.org/24/items/newatlantis02434gut/nwatl10.txt). If you choose not to implement assignment 4, task 6, download the files manually. We will also provide some txt files.\n",
    "\n",
    "Inspect these real-world texts manually to get an idea of what needs to be done to clean and prepare\n",
    "the texts for computational analysis. Implement the following functions to perform common pre-processing steps on the texts:\n",
    "1. *get_speaker_text()* – returns only the text spoken by the characters in the plays and removes all other text in the files, such as:\n",
    "    - Information about the file, acknowledgements, copyright notices etc.\n",
    "    - Headings indicating the act and scene\n",
    "    - Stage instructions\n",
    "    - Character names\n",
    "2. *normalize_text()*\n",
    "    - converts all text to lower case\n",
    "    - removes all punctuation from the texts\n",
    "3. *remove_stopwords()* – eliminates all stop words that are part of the list of English stop words (we provide two lists of stopwords, try both and see how they perform)\n",
    "4. *tokenize_text()* – splits the cleaned text into words\n",
    "\n",
    "This program is a pre-req for the next one."
   ]
  },
  {
   "cell_type": "code",
   "execution_count": 1,
   "metadata": {
    "id": "t5Mz4YP67btt"
   },
   "outputs": [],
   "source": [
    "import string\n",
    "\n",
    "def get_speaker_text(text):\n",
    "    # I don't see how a single, relatively simple, function is supposed to work for two different formatted texts. \n",
    "    return text\n",
    "\n",
    "def normalize_text(text):\n",
    "    text=text.lower()\n",
    "    translator=str.maketrans('','', string.punctuation)\n",
    "    return text.translate(translator)\n",
    "\n",
    "\n",
    "def remove_stopwords(text):\n",
    "    #found only one list in the provided .zip-file\n",
    "    stopwords = open('eng_stop_words.txt').read()\n",
    "    stopwords = stopwords.split('\\n')\n",
    "    out=[elem for elem in text.split() if elem not in stopwords] \n",
    "    return ' '.join(out)\n",
    "\n",
    "    \n",
    "def tokenize_text(text):\n",
    "    return text.split()"
   ]
  },
  {
   "cell_type": "markdown",
   "metadata": {
    "id": "vcpnC_hq7btu"
   },
   "source": [
    "## Task 02 – Classes\n",
    "The [Baconian theory](https://en.wikipedia.org/wiki/Baconian_theory_of_Shakespeare_authorship) holds that Sir Francis Bacon is the author of Shakespeare’s plays. We want to perform a very simple stylistic analysis between Shakespeare’s play Macbeth and Bacon’s New Atlantis. We check for words that frequently occur in both documents to see whether there are characteristic words that co-occur in the texts, which might give some support to the theory.\n",
    "\n",
    "Your Task:\n",
    "1. Download and pre-process the texts as follows:  \n",
    "  New Atlantis\n",
    "    1. *get_speaker_text()*\n",
    "    2. *normalize_text()*\n",
    "    3. *remove_stopwords()*\n",
    "    4. *tokenize_text()*   \n",
    "  \n",
    " Macbeth\n",
    "    1. *get_speaker_text()*\n",
    "    2. *normalize_text()*\n",
    "        1. *utils_ocr.correct_ocr_errors()* – we will provide a function to deal with OCR errors.\n",
    "    3. *remove_stopwords()*\n",
    "    4. *tokenize_text()*\n",
    "2. For the pre-processed texts, compute the list of word co-occurrence frequencies, i.e. which words occur in both documents and how often. Use the format:  \n",
    "[term , frequency_doc1 , frequency_doc2 , sum_of_frequencies]  \n",
    "Sort the list according to the sum of the frequencies in descending order.\n",
    "3. Use the csv library to store the ordered word co-occurrence frequency list in a CSV file. **You can zip the csv and upload it to GitHub.**"
   ]
  },
  {
   "cell_type": "code",
   "execution_count": 10,
   "metadata": {},
   "outputs": [],
   "source": [
    "import utils_ocr\n",
    "import csv\n",
    "\n",
    "atl=open('atlantis.txt').read()\n",
    "atl=get_speaker_text(atl)\n",
    "atl=normalize_text(atl)\n",
    "atl=remove_stopwords(atl)\n",
    "atl=tokenize_text(atl)\n",
    "\n",
    "mac=open('macbeth.txt').read()\n",
    "mac=get_speaker_text(mac)\n",
    "mac=normalize_text(mac)\n",
    "mac=utils_ocr.correct_ocr_errors(mac)\n",
    "mac=remove_stopwords(mac)\n",
    "mac=tokenize_text(mac)\n",
    "\n",
    "mac_unique=set(mac)\n",
    "atl_unique=set(atl)\n",
    "common= mac_unique & atl_unique\n",
    "\n",
    "# highly inefficient\n",
    "tokens=[[elem, mac.count(elem), atl.count(elem), atl.count(elem)+mac.count(elem)] for elem in common]\n",
    "#tokens_atl=[[elem, mac.count(elem), atl.count(elem), atl.count(elem)+mac.count(elem)] for elem in set(atl)]\n",
    "\n",
    "tokens_sorted=sorted(tokens, key=lambda x: x[3] )[::-1]\n",
    "tokens_sorted\n",
    "\n",
    "with open('cooccur.csv', 'w', newline='') as f:\n",
    "    writer=csv.writer(f)\n",
    "    writer.writerows(tokens_sorted)"
   ]
  },
  {
   "cell_type": "code",
   "execution_count": 4,
   "metadata": {},
   "outputs": [],
   "source": [
    "import zipfile\n",
    "\n",
    "with zipfile.ZipFile('files.zip', 'w') as newzip:\n",
    "    newzip.write('cooccur.csv')\n",
    "    newzip.write('macbeth.txt')\n",
    "    newzip.write('atlantis.txt')"
   ]
  },
  {
   "cell_type": "code",
   "execution_count": null,
   "metadata": {},
   "outputs": [],
   "source": []
  }
 ],
 "metadata": {
  "colab": {
   "provenance": []
  },
  "kernelspec": {
   "display_name": "Python 3 (ipykernel)",
   "language": "python",
   "name": "python3"
  },
  "language_info": {
   "codemirror_mode": {
    "name": "ipython",
    "version": 3
   },
   "file_extension": ".py",
   "mimetype": "text/x-python",
   "name": "python",
   "nbconvert_exporter": "python",
   "pygments_lexer": "ipython3",
   "version": "3.10.6"
  }
 },
 "nbformat": 4,
 "nbformat_minor": 4
}
