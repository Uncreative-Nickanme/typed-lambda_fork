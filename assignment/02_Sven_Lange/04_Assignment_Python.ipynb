{
 "cells": [
  {
   "cell_type": "markdown",
   "metadata": {
    "id": "_ikvQGPR7a99"
   },
   "source": [
    "# Assignment 04\n",
    "#### Python Basics IV - Functions, Unity Testing, and Logging\n",
    "\n",
    "This tutorial was written by Terry L. Ruas (University of Göttingen). The references for external contributors for which this material was anyhow adapted/inspired are in the Acknowledgments section (end of the document)."
   ]
  },
  {
   "cell_type": "markdown",
   "metadata": {
    "id": "SchiSV187a9-"
   },
   "source": [
    "This notebook will cover the following tasks:\n",
    "\n",
    "1. Lambda functions\n",
    "2. List comprehensions\n",
    "3. Unity Test\n",
    "4. HTTP Request\n",
    "5. Logging\n",
    "6. Download File"
   ]
  },
  {
   "cell_type": "markdown",
   "metadata": {
    "id": "QOoNCxgu7a-A"
   },
   "source": [
    "## Task 01 – Lambda functions\n",
    "Python supports lambda functions as a handy way to define small, anonymous, i.e., unnamed, functions inline. The basic syntax for lambda functions is:\n",
    "$$\n",
    " \\textbf{lambda}\\text{ parameter1, parameter2, ... : }\\textbf{expression}\n",
    "$$\n",
    "Use a lambda function only to retain the even values in an array of integers. Test your function with an input array of your choosing. Print the input array and the filtered output array to stdout."
   ]
  },
  {
   "cell_type": "code",
   "execution_count": 1,
   "metadata": {
    "id": "5keoJAOw7a-B"
   },
   "outputs": [
    {
     "name": "stdout",
     "output_type": "stream",
     "text": [
      "test list: [1, 2, 3, 4, 5, 0, -1, 42]\n",
      "filtered list:  [2, 4, 0, 42]\n"
     ]
    }
   ],
   "source": [
    "f=lambda x: [elem for elem in x if elem%2==0]\n",
    "test=[1,2,3,4,5,0,-1,42]\n",
    "print('test list:',test)\n",
    "print('filtered list: ',f(test))"
   ]
  },
  {
   "cell_type": "markdown",
   "metadata": {
    "id": "XSyLzHT17a-B"
   },
   "source": [
    "## Task 02 – List comprehensions\n",
    "Python supports list comprehension. The basic syntax of list comprehensions is:\n",
    "$$\n",
    "\\text{L = [<elem> for <elem> <Condition>]}\n",
    "$$\n",
    "Use list comprehensions to write a Python function *remove_long_words()* that:\n",
    "- accepts a sentence s and an integer n as input parameters\n",
    "- uses the *split()* function of String objects to split the sentence into words\n",
    "- stores the individual words in a list\n",
    "- removes all words that are longer than n characters from the list, thereby creating a new list\n",
    "- prints the list to stdout"
   ]
  },
  {
   "cell_type": "code",
   "execution_count": 2,
   "metadata": {
    "id": "hT-mGe_T7a-B"
   },
   "outputs": [
    {
     "name": "stdout",
     "output_type": "stream",
     "text": [
      "['This', 'is', 'a']\n",
      "['Testsentence']\n",
      "None\n"
     ]
    }
   ],
   "source": [
    "def remove_long_words(s,n):\n",
    "    print([elem for elem in s.split() if len(elem)<=n])\n",
    "    print([elem for elem in s.split() if len(elem)>n])\n",
    "    return None\n",
    "\n",
    "print(remove_long_words('This is a Testsentence',4))"
   ]
  },
  {
   "cell_type": "markdown",
   "metadata": {
    "id": "_QHEBddh7a-C"
   },
   "source": [
    "## Task 03 – Unity Test\n",
    "The following algorithm in Python converts numbers in decimal representation to binary.\n",
    "1. Develop a unit test that checks for values in the interval \\[-1,3\\] whether the algorithm returns the\n",
    "expected results.\n",
    "2. Adjust the algorithm, so it passes the unit test developed in 1). Rename the function to\n",
    "*decimal_to_binary_correct()*"
   ]
  },
  {
   "cell_type": "code",
   "execution_count": 3,
   "metadata": {
    "id": "IdFKIU4u7a-C"
   },
   "outputs": [
    {
     "name": "stdout",
     "output_type": "stream",
     "text": [
      "False\n"
     ]
    },
    {
     "data": {
      "text/plain": [
       "[1, 0]"
      ]
     },
     "execution_count": 3,
     "metadata": {},
     "output_type": "execute_result"
    }
   ],
   "source": [
    "import math\n",
    "def decimal2binary(n):\n",
    "    # function to convert decimal integers to binary\n",
    "    x = []\n",
    "    while n > 0:\n",
    "        x.append(n % 2)\n",
    "        n = math.floor(n/2)\n",
    "    return x[::-1]\n",
    "\n",
    "# finding the problem; it's about negative numbers !\n",
    "print([*map(str,decimal2binary(-42))]==list(bin(-42))[2:])\n",
    "decimal2binary(2)"
   ]
  },
  {
   "cell_type": "code",
   "execution_count": 4,
   "metadata": {
    "id": "McO91gqP7a-D"
   },
   "outputs": [],
   "source": [
    "# 3.1\n",
    "\n",
    "def test_deci2bin():\n",
    "    tst=[i for i in range(-1,4)]\n",
    "    tst_bin=[['-',1],[0],[1],[1,0],[1,1]]\n",
    "    data =[decimal2binary(i)for i in tst]\n",
    "    assert all([data[i]==tst_bin[i] for i in range(5)])\n",
    "    \n",
    "    \n",
    "    \n",
    "# 3.2\n",
    "def decimal_to_binary_correct(n):\n",
    "    x = []\n",
    "    if n<0:\n",
    "        x=['-']\n",
    "        n=abs(n)\n",
    "    if n==0:\n",
    "        x=[0]\n",
    "    while n > 0:\n",
    "        x.append(n % 2)\n",
    "        n = math.floor(n/2)\n",
    "    return x\n",
    "\n",
    "\n",
    "def test_deci2bin_corr():\n",
    "    tst=[i for i in range(-1,4)]\n",
    "    tst_bin=[['-',1],[0],[1],[1,0],[1,1]]\n",
    "    data =[decimal_to_binary_correct(i)for i in tst]\n",
    "    assert all([data[i]==tst_bin[i] for i in range(5)])\n"
   ]
  },
  {
   "cell_type": "markdown",
   "metadata": {
    "id": "iNLOQ5y47a-E"
   },
   "source": [
    "## Task 04 – HTTP Request\n",
    "Working with HTTP connections is essential for many data gathering tasks. The Python library *urllib* provides all functionality we need.\n",
    "Write a Python function *open_url(url)* that:\n",
    "- uses urllib to establish a HTTP connection to an arbitrary website\n",
    "- retrieves and prints the first 200 characters of the html resource, i.e. the html source code, of the chosen website\n",
    "- handles the exceptions thrown by the *urllib.request* function\n",
    "\n",
    "FYI: The basic syntax for exception handling in Python is as follows:\n",
    "```\n",
    "try:\n",
    "    ...\n",
    "    return ...\n",
    "except SomeError1 as e:\n",
    "    # error-specific exception handling\n",
    "except SomeError2 as e:\n",
    "    # error-specific exception handling\n",
    "except\n",
    "    # general exception handling\n",
    "```"
   ]
  },
  {
   "cell_type": "code",
   "execution_count": 5,
   "metadata": {
    "id": "NaCXxVlB7a-E"
   },
   "outputs": [
    {
     "name": "stdout",
     "output_type": "stream",
     "text": [
      "<!DOCTYPE html>\n",
      "<html class=\"client-nojs\" lang=\"en\" dir=\"ltr\">\n",
      "<head>\n",
      "<meta charset=\"UTF-8\"/>\n",
      "<title>Wikipedia, the free encyclopedia</title>\n",
      "<script>document.documentElement.className=\"client-js\";RLC \n",
      "\n",
      "Website not found: <urlopen error [Errno -2] Name or service not known> \n",
      "\n",
      "Decoding failed: encoding with 'idna' codec failed (UnicodeError: label empty or too long)\n"
     ]
    }
   ],
   "source": [
    "import urllib.request\n",
    "import urllib.error\n",
    "\n",
    "def open_url(url):\n",
    "    try:\n",
    "        with urllib.request.urlopen(url) as data:\n",
    "            return data.read(200).decode('utf-8')\n",
    "    except urllib.error.URLError as e:\n",
    "            return f'Website not found: {e}'\n",
    "    except UnicodeError as e:\n",
    "            return f'Decoding failed: {e}'\n",
    "    except ValueError as e:\n",
    "            return f'Could not read URL: {e}'\n",
    "    except urllib.error.HTTPError as e:\n",
    "            return f'Protocol Error: {e}'\n",
    "print(open_url('https://en.wikipedia.org'),'\\n')\n",
    "print(open_url('https://en.wykypedia.org'),'\\n')\n",
    "print(open_url('https://.wikipedia.org'))"
   ]
  },
  {
   "cell_type": "markdown",
   "metadata": {
    "id": "ogac-RcI7a-F"
   },
   "source": [
    "## Task 05 – Logging\n",
    "The logging module in Python provides functionality for logging and debugging purposes. Use the logging module to extend the error handling for the function that you implemented to establish a HTTP connection (Task 4). All exceptions thrown by your function shall be logged as errors.\n",
    "\n",
    "To accomplish the task:\n",
    "- write a Python function *init_log(file_name, file_mode, level, format, date_format)* that initializes a custom log file to which all debugging information and errors are appended using a format that includes the date, time, level and the message of the logging event\n",
    "- log occurring errors by calling *logging.error(...)*\n",
    "- close the log after completing your task by calling *logging.shutdown()*\n",
    "\n",
    "If you choose not to complete Tasks 4, test the logging functionality with a few examples of your own."
   ]
  },
  {
   "cell_type": "code",
   "execution_count": 1,
   "metadata": {},
   "outputs": [],
   "source": [
    "import urllib.request\n",
    "import urllib.error\n",
    "import logging\n",
    "\n",
    "def open_url_logging(url):\n",
    "    try:\n",
    "        with urllib.request.urlopen(url) as data:\n",
    "            return data.read(200).decode('utf-8')\n",
    "    except urllib.error.URLError:\n",
    "            logging.error('Website not found.')\n",
    "            return None\n",
    "    except UnicodeError:\n",
    "            logging.error('Decoding failed. Please check the URL.')\n",
    "            return None\n",
    "    except ValueError:\n",
    "            logging.error('Could not read URL.')\n",
    "            return None\n",
    "    except urllib.error.HTTPError:\n",
    "            logging.error('HTTP-Error')\n",
    "            return None"
   ]
  },
  {
   "cell_type": "code",
   "execution_count": 2,
   "metadata": {
    "id": "hT8RvjYU7a-F"
   },
   "outputs": [],
   "source": [
    "import logging\n",
    "def init_log(file_name, file_mode, level, formatt, date_format):\n",
    "    logging.basicConfig(filename=file_name, filemode=file_mode, level=level, format=formatt, datefmt = date_format)\n",
    "    console=logging.StreamHandler()\n",
    "    console.setLevel(level)\n",
    "    formatter=logging.Formatter(formatt)\n",
    "    console.setFormatter(formatter)\n",
    "    logging.getLogger('').addHandler(console)\n",
    "    \n",
    "init_log('log_03.txt', 'w', logging.DEBUG,'%(asctime)s, %(name)s, %(levelname)s, %(message)s', '%Y-%m-%d %H:%M:%S')\n"
   ]
  },
  {
   "cell_type": "code",
   "execution_count": 3,
   "metadata": {},
   "outputs": [
    {
     "name": "stderr",
     "output_type": "stream",
     "text": [
      "2023-01-15 12:40:48,052, root, ERROR, Could not read URL.\n",
      "2023-01-15 12:40:48,156, root, ERROR, Website not found.\n"
     ]
    }
   ],
   "source": [
    "open_url_logging('wikipedia.org')\n",
    "open_url_logging('https://www.wikipedia.org')\n",
    "open_url_logging('https://en.wykypedia.org')"
   ]
  },
  {
   "cell_type": "markdown",
   "metadata": {
    "id": "FFvlZPUc7a-G"
   },
   "source": [
    "## Task 06 – Download File\n",
    "In Task 4, you used the *urllib* library to establish a http connection. You can also use the *urllib* library to perform simple file downloads.\n",
    "\n",
    "Write a Python function *download_file(url, path)* that:\n",
    "- checks whether the input URL points to a .txt file\n",
    "- if the input URL points to a .txt file, uses the *urllib* library to download and write the text file to the given path on your machine\n",
    "- logs an error “No text file found at given URL, download aborted!” to the log file created in Task 5 if the input URL does not point to a .txt file.\n",
    "- properly handles exceptions\n",
    "\n",
    "Use the *download_file()* function to download William Shakespeare’s drama Macbeth as a plain\n",
    "text file from: [Macbeth](https://ia802707.us.archive.org/1/items/macbeth02264gut/0ws3410.txt)"
   ]
  },
  {
   "cell_type": "code",
   "execution_count": 2,
   "metadata": {
    "id": "3L-DwhcZ7a-G"
   },
   "outputs": [
    {
     "name": "stdout",
     "output_type": "stream",
     "text": [
      "Done.\n"
     ]
    }
   ],
   "source": [
    "import urllib\n",
    "\n",
    "def download_file(url, path):\n",
    "    if url.split('.')[-1]=='txt':\n",
    "        a= urllib.request.urlopen(url).read().decode('unicode_escape')\n",
    "        out=''\n",
    "        for line in a:\n",
    "            out +=str(line)\n",
    "        f=open(path,'w')\n",
    "        f.write(out)\n",
    "        f.close()\n",
    "        return 'Done.'\n",
    "    else:\n",
    "        logging.error('No txt file fount at given URL, download abourted!')\n",
    "        return None\n",
    "\n",
    "# macbeth\n",
    "print(download_file('https://ia802707.us.archive.org/1/items/macbeth02264gut/0ws3410.txt','macbeth.txt'))    \n",
    "# new atlantis\n",
    "print(download_file('https://ia801309.us.archive.org/24/items/newatlantis02434gut/nwatl10.txt','atlantis.txt'))"
   ]
  }
 ],
 "metadata": {
  "colab": {
   "provenance": []
  },
  "kernelspec": {
   "display_name": "Python 3 (ipykernel)",
   "language": "python",
   "name": "python3"
  },
  "language_info": {
   "codemirror_mode": {
    "name": "ipython",
    "version": 3
   },
   "file_extension": ".py",
   "mimetype": "text/x-python",
   "name": "python",
   "nbconvert_exporter": "python",
   "pygments_lexer": "ipython3",
   "version": "3.10.6"
  }
 },
 "nbformat": 4,
 "nbformat_minor": 4
}
