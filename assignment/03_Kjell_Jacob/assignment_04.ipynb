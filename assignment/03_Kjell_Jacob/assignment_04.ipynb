{
 "cells": [
  {
   "cell_type": "markdown",
   "source": [
    "# Assignment 04\n",
    "#### Python Basics IV - Functions, Unity Testing, and Logging\n",
    "\n",
    "This tutorial was written by Terry L. Ruas (University of Göttingen). The references for external contributors for which this material was anyhow adapted/inspired are in the Acknowledgments section (end of the document)."
   ],
   "metadata": {
    "collapsed": false,
    "id": "_ikvQGPR7a99"
   }
  },
  {
   "cell_type": "markdown",
   "source": [
    "This notebook will cover the following tasks:\n",
    "\n",
    "1. Lambda functions\n",
    "2. List comprehensions\n",
    "3. Unity Test\n",
    "4. HTTP Request\n",
    "5. Logging\n",
    "6. Download File"
   ],
   "metadata": {
    "collapsed": false,
    "id": "SchiSV187a9-"
   }
  },
  {
   "cell_type": "markdown",
   "source": [
    "## Task 01 – Lambda functions\n",
    "Python supports lambda functions as a handy way to define small, anonymous, i.e., unnamed, functions inline. The basic syntax for lambda functions is:\n",
    "$$\n",
    " \\textbf{lambda}\\text{ parameter1, parameter2, ... : }\\textbf{expression}\n",
    "$$\n",
    "Use a lambda function only to retain the even values in an array of integers. Test your function with an input array of your choosing. Print the input array and the filtered output array to stdout."
   ],
   "metadata": {
    "collapsed": false,
    "id": "QOoNCxgu7a-A"
   }
  },
  {
   "cell_type": "code",
   "execution_count": 77,
   "outputs": [
    {
     "name": "stdout",
     "output_type": "stream",
     "text": [
      "[2, 4, 6]\n"
     ]
    }
   ],
   "source": [
    "input_array = [1, 2, 3, 4, 5, 6]\n",
    "\n",
    "even_array = list(filter(lambda x: x % 2 == 0,input_array))\n",
    "\n",
    "print(even_array)"
   ],
   "metadata": {
    "id": "5keoJAOw7a-B"
   }
  },
  {
   "cell_type": "markdown",
   "source": [
    "## Task 02 – List comprehensions\n",
    "Python supports list comprehension. The basic syntax of list comprehensions is:\n",
    "$$\n",
    "\\text{L = [<elem> for <elem> <Condition>]}\n",
    "$$\n",
    "Use list comprehensions to write a Python function *remove_long_words()* that:\n",
    "- accepts a sentence s and an integer n as input parameters\n",
    "- uses the *split()* function of String objects to split the sentence into words\n",
    "- stores the individual words in a list\n",
    "- removes all words that are longer than n characters from the list, thereby creating a new list\n",
    "- prints the list to stdout"
   ],
   "metadata": {
    "collapsed": false,
    "id": "XSyLzHT17a-B"
   }
  },
  {
   "cell_type": "code",
   "execution_count": 78,
   "outputs": [
    {
     "name": "stdout",
     "output_type": "stream",
     "text": [
      "['So', 'this', 'is', 'how', 'liberty', 'dies', 'with', 'applause']\n"
     ]
    }
   ],
   "source": [
    "\n",
    "\n",
    "def remove_long_words(s, n):\n",
    "    '''\n",
    "     function to remove words longer than n characters from sentence and\n",
    "     printing out a list of all the other words\n",
    "    '''\n",
    "    characters = ['\"', ',', ';', ':', '.']\n",
    "\n",
    "    for char in characters:\n",
    "        s = s.replace(char, '')\n",
    "\n",
    "    individual_words = s.split(' ')\n",
    "    shorter_words = [word for word in individual_words if len(word) <= n]\n",
    "\n",
    "    print(shorter_words)\n",
    "\n",
    "\n",
    "sentence = 'So this is how liberty dies... with thunderous applause.'\n",
    "remove_long_words(sentence, 8)"
   ],
   "metadata": {
    "id": "hT-mGe_T7a-B"
   }
  },
  {
   "cell_type": "markdown",
   "source": [
    "## Task 03 – Unity Test\n",
    "The following algorithm in Python converts numbers in decimal representation to binary.\n",
    "1. Develop a unit test that checks for values in the interval \\[-1,3\\] whether the algorithm returns the\n",
    "expected results.\n",
    "2. Adjust the algorithm, so it passes the unit test developed in 1). Rename the function to\n",
    "*decimal_to_binary_correct()*"
   ],
   "metadata": {
    "collapsed": false,
    "id": "_QHEBddh7a-C"
   }
  },
  {
   "cell_type": "code",
   "execution_count": 79,
   "outputs": [],
   "source": [
    "import math\n",
    "\n",
    "\n",
    "def decimal2binary(n):\n",
    "    # function to convert decimal integers to binary\n",
    "    x = []\n",
    "    while n > 0:\n",
    "        x.append(n % 2)\n",
    "        n = math.floor(n/2)\n",
    "    return x[::-1]\n",
    "\n"
   ],
   "metadata": {
    "id": "IdFKIU4u7a-C"
   }
  },
  {
   "cell_type": "code",
   "execution_count": 80,
   "outputs": [
    {
     "name": "stdout",
     "output_type": "stream",
     "text": [
      "<function decimal2binary at 0x11cd5d080> does not work for value -1: The function returns [] and the correct representation is -1.\n",
      "<function decimal2binary at 0x11cd5d080> does not work for value 0: The function returns [] and the correct representation is 0.\n",
      "<function decimal2binary at 0x11cd5d080> does not work for value 1: The function returns [1] and the correct representation is 1.\n",
      "<function decimal2binary at 0x11cd5d080> does not work for value 2: The function returns [1, 0] and the correct representation is 10.\n",
      "<function decimal2binary at 0x11cd5d080> does not work for value 3: The function returns [1, 1] and the correct representation is 11.\n"
     ]
    }
   ],
   "source": [
    "# 3.1\n",
    "\n",
    "\n",
    "def unit_test_binary_converter(function, interval):\n",
    "    '''\n",
    "    :param function: function to convert decimal integers to binary\n",
    "    :param interval: testing interval\n",
    "    :return: nothing if the function is working as expected or error messages for every error occurring in the interval\n",
    "    '''\n",
    "    for i in range(interval[0], interval[1]+1):\n",
    "        binary_representation = format(i, 'b')\n",
    "        function_return = function(i)\n",
    "        try:\n",
    "            assert binary_representation == function_return\n",
    "        except:\n",
    "            print(f'{function} does not work for value {i}: '\n",
    "                  f'The function returns {function_return} and '\n",
    "                  f'the correct representation is {binary_representation}.')\n",
    "\n",
    "\n",
    "unit_test_binary_converter(decimal2binary, [-1, 3])"
   ],
   "metadata": {
    "id": "McO91gqP7a-D"
   }
  },
  {
   "cell_type": "code",
   "execution_count": 81,
   "outputs": [],
   "source": [
    "# 3.2\n",
    "\n",
    "\n",
    "def decimal2binary_correct(n):\n",
    "    # correct function to convert decimal integers to binary\n",
    "\n",
    "    # check for negative numbers\n",
    "    negative = False\n",
    "    if n < 0:\n",
    "        negative = True\n",
    "        n = -n\n",
    "    x = []\n",
    "    while n > 0:\n",
    "        x.append(n % 2)\n",
    "        n = math.floor(n/2)\n",
    "    if negative:\n",
    "        output = '-'\n",
    "    else:\n",
    "        output = ''\n",
    "    for i in x[::-1]:\n",
    "        output += str(i)\n",
    "    if x == []:\n",
    "        output += '0'\n",
    "    return output\n",
    "\n",
    "\n",
    "unit_test_binary_converter(decimal2binary_correct, [-1, 3])"
   ],
   "metadata": {
    "collapsed": false
   }
  },
  {
   "cell_type": "markdown",
   "source": [
    "## Task 04 – HTTP Request\n",
    "Working with HTTP connections is essential for many data gathering tasks. The Python library *urllib* provides all functionality we need.\n",
    "Write a Python function *open_url(url)* that:\n",
    "- uses urllib to establish a HTTP connection to an arbitrary website\n",
    "- retrieves and prints the first 200 characters of the html resource, i.e. the html source code, of the chosen website\n",
    "- handles the exceptions thrown by the *urllib.request* function\n",
    "\n",
    "FYI: The basic syntax for exception handling in Python is as follows:\n",
    "```\n",
    "try:\n",
    "    ...\n",
    "    return ...\n",
    "except SomeError1 as e:\n",
    "    # error-specific exception handling\n",
    "except SomeError2 as e:\n",
    "    # error-specific exception handling\n",
    "except\n",
    "    # general exception handling\n",
    "```"
   ],
   "metadata": {
    "collapsed": false,
    "id": "iNLOQ5y47a-E"
   }
  },
  {
   "cell_type": "code",
   "execution_count": 82,
   "outputs": [],
   "source": [
    "import urllib\n",
    "import ssl\n",
    "\n",
    "ssl._create_default_https_context = ssl._create_unverified_context\n",
    "\n",
    "\n",
    "def open_url(url):\n",
    "    \"\"\"\n",
    "    This function prints the first 200 characters of a given html resource\n",
    "    using urllib\n",
    "    :param url: String of URL-Address to check out\n",
    "    :return: None\n",
    "    \"\"\"\n",
    "    try:\n",
    "        url_request = urllib.request.urlopen(url)\n",
    "        print(url_request.read(200))\n",
    "    except urllib.error.URLError as e:\n",
    "        print(f'Error: {e}')\n",
    "    except urllib.error.HTTPError as e:\n",
    "        print(f'Error: {e}')\n",
    "    except:\n",
    "        print('Something went wrong.')\n",
    "\n"
   ],
   "metadata": {
    "id": "NaCXxVlB7a-E"
   }
  },
  {
   "cell_type": "markdown",
   "source": [
    "## Task 05 – Logging\n",
    "The logging module in Python provides functionality for logging and debugging purposes. Use the logging module to extend the error handling for the function that you implemented to establish a HTTP connection (Task 4). All exceptions thrown by your function shall be logged as errors.\n",
    "\n",
    "To accomplish the task:\n",
    "- write a Python function *init_log(file_name, file_mode, level, format, date_format)* that initializes a custom log file to which all debugging information and errors are appended using a format that includes the date, time, level and the message of the logging event\n",
    "- log occurring errors by calling *logging.error(...)*\n",
    "- close the log after completing your task by calling *logging.shutdown()*\n",
    "\n",
    "If you choose not to complete Tasks 4, test the logging functionality with a few examples of your own."
   ],
   "metadata": {
    "collapsed": false,
    "id": "ogac-RcI7a-F"
   }
  },
  {
   "cell_type": "code",
   "execution_count": 83,
   "outputs": [
    {
     "name": "stdout",
     "output_type": "stream",
     "text": [
      "Error: unknown url type: 'gwdg.de'\n",
      "b'<!DOCTYPE html> <html class=\"aui ltr\" dir=\"ltr\" lang=\"en-US\"> <head> <title>GWDG - GWDG - IT in der Wissenschaft</title> <meta content=\"initial-scale=1.0, width=device-width\" name=\"viewport\" /> <meta '\n"
     ]
    }
   ],
   "source": [
    "import logging\n",
    "\n",
    "\n",
    "def init_log(file_name, file_mode, level, format, date_format):\n",
    "    \"\"\"\n",
    "    Creates a custom log file to which all debugging information and errors are appended using a format that includes\n",
    "    the date, time, level and the message of the logging event.\n",
    "    :param file_name: Name of the file to be created\n",
    "    :param file_mode:\n",
    "    :param level:\n",
    "    :param format:\n",
    "    :param date_format: Options:\n",
    "    \"\"\"\n",
    "    logging.basicConfig(filename=file_name, filemode=file_mode, level=level, format=format, datefmt=date_format)\n",
    "\n",
    "\n",
    "def open_url_logging(url):\n",
    "    \"\"\"\n",
    "    Prints the first 200 characters of a given html resource using urllib. Prints errors and also logs them.\n",
    "    :param url: String of URL-Address to check out\n",
    "    :return: None\n",
    "    \"\"\"\n",
    "    try:\n",
    "        url_request = urllib.request.urlopen(url)\n",
    "        print(url_request.read(200))\n",
    "    except urllib.error.URLError as e:\n",
    "        logging.error(f'urllib error: {e}')\n",
    "        print(f'Error: {e}')\n",
    "    except urllib.error.HTTPError as e:\n",
    "        logging.error(f'urllib error: {e}')\n",
    "        print(f'Error: {e}')\n",
    "    except ValueError as e:\n",
    "        logging.error(f'error: {e}')\n",
    "        print(f'Error: {e}')\n",
    "    except:\n",
    "        logging.error('Something went wrong.')\n",
    "        print('Something went wrong.')\n",
    "\n",
    "\n",
    "# testing\n",
    "init_log('test_log.txt', 'a', 40, '%(asctime)s %(levelname)s %(threadName)s %(name)s %(message)s', '%a, %d %b %Y %H:%M:%S')\n",
    "open_url_logging('gwdg.de')\n",
    "open_url_logging('https://www.gwdg.de')\n",
    "logging.shutdown()\n"
   ],
   "metadata": {
    "id": "hT8RvjYU7a-F"
   }
  },
  {
   "cell_type": "markdown",
   "source": [
    "## Task 06 – Download File\n",
    "In Task 4, you used the *urllib* library to establish a http connection. You can also use the *urllib* library to perform simple file downloads.\n",
    "\n",
    "Write a Python function *download_file(url, path)* that:\n",
    "- checks whether the input URL points to a .txt file\n",
    "- if the input URL points to a .txt file, uses the *urllib* library to download and write the text file to the given path on your machine\n",
    "- logs an error “No text file found at given URL, download aborted!” to the log file created in Task 5 if the input URL does not point to a .txt file.\n",
    "- properly handles exceptions\n",
    "\n",
    "Use the *download_file()* function to download William Shakespeare’s drama Macbeth as a plain\n",
    "text file from: [Macbeth](https://ia802707.us.archive.org/1/items/macbeth02264gut/0ws3410.txt)"
   ],
   "metadata": {
    "collapsed": false,
    "id": "FFvlZPUc7a-G"
   }
  },
  {
   "cell_type": "code",
   "execution_count": 86,
   "outputs": [],
   "source": [
    "\n",
    "\n",
    "def download_file(url, path):\n",
    "    \"\"\"\n",
    "    Downloads a given txt file.\n",
    "    :param url: URL-Address of the download target\n",
    "    :param path: location of the created file\n",
    "    \"\"\"\n",
    "    init_log(\n",
    "        'test_log',\n",
    "        'a',\n",
    "        40,\n",
    "        '%(asctime)s %(levelname)s %(threadName)s %(name)s %(message)s',\n",
    "        '%a, %d %b %Y %H:%M:%S'\n",
    "    )\n",
    "    if url[-3:] == 'txt':\n",
    "        try:\n",
    "            urllib.request.urlretrieve(url, path)\n",
    "        except urllib.error.URLError as e:\n",
    "            print(f'Error: {e}')\n",
    "        except urllib.error.HTTPError as e:\n",
    "            print(f'Error: {e}')\n",
    "        except ValueError as e:\n",
    "            print(f'Error: {e}')\n",
    "        except IsADirectoryError as e:\n",
    "            print(f'Error: {e}')\n",
    "        except:\n",
    "            print('Something went wrong.')\n",
    "    else:\n",
    "        logging.error('No text file found at given URL, download aborted!')\n",
    "    logging.shutdown()\n",
    "    # check if url points to a txt -/-> raise Exception\n",
    "    # download txt and write to path (using urllib)\n",
    "\n",
    "\n",
    "macbeth = 'https://ia802707.us.archive.org/1/items/macbeth02264gut/0ws3410.txt'\n",
    "download_file(macbeth, './macbeth.txt')\n",
    "new_atlantis = 'https://ia801309.us.archive.org/24/items/newatlantis02434gut/nwatl10.txt'\n",
    "download_file(new_atlantis, './new_atlantis.txt')"
   ],
   "metadata": {
    "id": "3L-DwhcZ7a-G"
   }
  },
  {
   "cell_type": "code",
   "execution_count": 84,
   "outputs": [],
   "source": [],
   "metadata": {
    "collapsed": false
   }
  }
 ],
 "metadata": {
  "kernelspec": {
   "display_name": "Python 3",
   "language": "python",
   "name": "python3"
  },
  "language_info": {
   "codemirror_mode": {
    "name": "ipython",
    "version": 2
   },
   "file_extension": ".py",
   "mimetype": "text/x-python",
   "name": "python",
   "nbconvert_exporter": "python",
   "pygments_lexer": "ipython2",
   "version": "2.7.6"
  },
  "colab": {
   "provenance": []
  }
 },
 "nbformat": 4,
 "nbformat_minor": 0
}
