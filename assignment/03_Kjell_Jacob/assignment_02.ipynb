{
 "cells": [
  {
   "cell_type": "markdown",
   "source": [
    "# Assignment 02\n",
    "##### Python Basics II\n",
    "\n",
    "This tutorial was written by Terry Ruas (University of Göttingen); The references for external contributors for which this material was anyhow adapted/inspired are in the Acknowledgments section (end of the document).\n"
   ],
   "metadata": {
    "collapsed": false,
    "id": "LZgQdr4W6iKz"
   }
  },
  {
   "cell_type": "markdown",
   "source": [
    "This notebook will cover the following tasks:\n",
    "\n",
    "1. String Length\n",
    "2. Largest List Element\n",
    "3. Character Frequency\n",
    "4. Sorted List of Tuples\n",
    "5. Check Brackets\n",
    "6. Check Brackets II\n",
    "7. Queue\n",
    "8. Unlimited Power\n",
    "9. Unlimited Power II"
   ],
   "metadata": {
    "collapsed": false,
    "id": "Yvektzz_6iK1"
   }
  },
  {
   "cell_type": "markdown",
   "source": [
    "## Task 01 – String Length\n",
    "Write a program that reads in a string and prints the length of the input string. Do not use any built-in functions of Python, such as len().\n",
    "For example, if the input is “Computer Science”, the output should be length: 16."
   ],
   "metadata": {
    "collapsed": false,
    "id": "4GPUv_8U6iK1"
   }
  },
  {
   "cell_type": "code",
   "execution_count": 1,
   "outputs": [
    {
     "name": "stdout",
     "output_type": "stream",
     "text": [
      "16\n"
     ]
    }
   ],
   "source": [
    "input_string = input('Enter your string:')\n",
    "\n",
    "string_length = 0\n",
    "for character in input_string:\n",
    "    string_length += 1\n",
    "\n",
    "print(string_length)"
   ],
   "metadata": {
    "id": "xt3XV0YD6iK2"
   }
  },
  {
   "cell_type": "markdown",
   "source": [
    "## Task 02 – Largest List Element\n",
    "Write a program that generates a list of 10 random integers between 1 and 100 and then finds and prints the largest element in the list. Do not use the built-in function max().\n",
    "For example, if the input is [23,3,42,29,12,15,8,4,37,34], the output should be the largest element: 42.\n",
    "\n",
    "Hint: Check out the module [random](https://docs.python.org/3.7/library/random.html)."
   ],
   "metadata": {
    "collapsed": false,
    "id": "_Jz4T4AQ6iK3"
   }
  },
  {
   "cell_type": "code",
   "execution_count": 7,
   "outputs": [
    {
     "name": "stdout",
     "output_type": "stream",
     "text": [
      "98\n"
     ]
    }
   ],
   "source": [
    "import numpy as np\n",
    "\n",
    "random_integers = np.random.randint(1, 101, 10)\n",
    "\n",
    "max = 0\n",
    "for integer in random_integers:\n",
    "    if integer > max:\n",
    "        max = integer\n",
    "\n",
    "print(max)"
   ],
   "metadata": {
    "id": "aKLGcZ0_6iK3"
   }
  },
  {
   "cell_type": "markdown",
   "source": [
    "## Task 03 – Character Frequency\n",
    "Write a program that:\n",
    "* Reads in a string and removes any spaces from the string\n",
    "* Counts how often individual characters occur in the string\n",
    "* Stores the information on character occurrence frequency in a dictionary\n",
    "* Prints the dictionary.\n",
    "\n",
    "For example, if the input is “santa claus”, the output should be:\n",
    "{'s': 2, 'a': 3, 'n': 1, 't': 1, 'c': 1, 'l': 1, 'u': 1}."
   ],
   "metadata": {
    "collapsed": false,
    "id": "PalhJ9x36iK4"
   }
  },
  {
   "cell_type": "code",
   "execution_count": 14,
   "outputs": [
    {
     "name": "stdout",
     "output_type": "stream",
     "text": [
      "{'s': 2, 'a': 3, 'n': 1, 't': 1, 'c': 1, 'l': 1, 'u': 1}\n"
     ]
    }
   ],
   "source": [
    "string_input = input('Enter your string:').replace(' ','')\n",
    "\n",
    "character_occurrence = {}\n",
    "for character in string_input:\n",
    "    if character in character_occurrence:\n",
    "        character_occurrence[character] += 1\n",
    "    else:\n",
    "        character_occurrence[character] = 1\n",
    "\n",
    "print(character_occurrence)"
   ],
   "metadata": {
    "id": "vm5UlcKB6iK4"
   }
  },
  {
   "cell_type": "markdown",
   "source": [
    "## Task 04 – Sorted List of Tuples\n",
    "Write a program that:\n",
    "* Generates a list of 10 tuples, each tuple consisting of 3 random integers between 1 and 100\n",
    "* Sorts the list of tuples in increasing order of the third element in each tuple\n",
    "* Prints the sorted list of tuples\n",
    "\n",
    "For example, if the generated input list is: [(56, 77, 69), (43, 30, 38), (2, 77, 101), (93, 57, 4), (74, 21, 77), (39, 68, 68), (65, 53, 96), (16, 29, 88), (88, 70, 38)]\n",
    "The output should be: [(93, 57, 4), (43, 30, 38), (88, 70, 38), (39, 68, 68), (56, 77, 69), (74, 21, 77), (16, 29, 88), (65, 53, 96), (2, 77, 101)]\n",
    "\n",
    "Hint: You are allowed and encouraged to use built-in functions, such as [sorted()](https://docs.python.org/3.7/library/functions.html?highlight=sorted#sorted), for this task."
   ],
   "metadata": {
    "collapsed": false
   }
  },
  {
   "cell_type": "code",
   "execution_count": 29,
   "outputs": [
    {
     "name": "stdout",
     "output_type": "stream",
     "text": [
      "generated input: [(43, 66, 56), (69, 17, 85), (51, 97, 11), (47, 43, 80), (60, 41, 96), (60, 55, 74), (84, 27, 22), (76, 25, 78), (67, 21, 91), (30, 10, 95)]\n",
      "output: [(51, 97, 11), (84, 27, 22), (43, 66, 56), (60, 55, 74), (76, 25, 78), (47, 43, 80), (69, 17, 85), (67, 21, 91), (30, 10, 95), (60, 41, 96)]\n"
     ]
    }
   ],
   "source": [
    "tuples_list = [\n",
    "    (np.random.randint(1,101), np.random.randint(1,101), np.random.randint(1,101)) for i in range(10)\n",
    "]\n",
    "def third(array):\n",
    "    return array[2]\n",
    "\n",
    "tuples_list_sorted = sorted(tuples_list, key=third)\n",
    "print(f'generated input: {tuples_list}')\n",
    "print(f'output: {tuples_list_sorted}')"
   ],
   "metadata": {
    "collapsed": false
   }
  },
  {
   "cell_type": "markdown",
   "source": [
    "## Task 05 – Check Brackets\n",
    "Write a program that reads in a string, which is supposed to be a mathematical expression. Focus on brackets only and check whether left and right brackets are composed correctly. Ignore all other characters (i.e. you don’t have to check correctness of operators and operands).\n",
    "Examples of correct input:\n",
    "* 3*(2+5)\n",
    "* ((()())())\n",
    "* (3+)(((4)))\n",
    "* Empty string\n",
    "\n",
    "Examples of incorrect input:\n",
    "* (3*(2+5)\n",
    "* ((()())(())\n",
    "* (3+)((4)))\n",
    "* ())(()\n"
   ],
   "metadata": {
    "collapsed": false,
    "id": "qz4P36Lz6iK6"
   }
  },
  {
   "cell_type": "code",
   "execution_count": 53,
   "outputs": [
    {
     "name": "stdout",
     "output_type": "stream",
     "text": [
      "The brackets are valid.\n"
     ]
    }
   ],
   "source": [
    "expression = input('Enter your mathematical expression:')\n",
    "\n",
    "expression = expression.replace(\")(\", \")-(\")\n",
    "expression = expression.replace(\"()\", \"(1)\")\n",
    "\n",
    "if expression == '':\n",
    "    print('The brackets are valid.')\n",
    "else:\n",
    "    try:\n",
    "        eval(expression)\n",
    "        print(\"The brackets are valid.\")\n",
    "    except:\n",
    "        print(\"The brackets are not valid.\")\n"
   ],
   "metadata": {
    "id": "2c67p_Zc6iK7"
   }
  },
  {
   "cell_type": "markdown",
   "source": [
    "## Task 06 – Check Brackets II\n",
    "Extend previous program, so it can handle also square and curly brackets. Note that expressions in brackets cannot overlap. So, expression ```{[()()]([[]])}{}``` is correct, but expression ```([)]``` is not."
   ],
   "metadata": {
    "collapsed": false,
    "id": "k1kh3odh6iK7"
   }
  },
  {
   "cell_type": "code",
   "execution_count": 69,
   "outputs": [
    {
     "name": "stdout",
     "output_type": "stream",
     "text": [
      "ERROR\n"
     ]
    }
   ],
   "source": [
    "text_valid = '{[()()]([[]])}{}'\n",
    "text_invalid = '([)]'\n",
    "\n",
    "opens = {'round':0, 'square':0, 'curly':0}\n",
    "last_open = []\n",
    "brackets = '()[]{}'\n",
    "\n",
    "for letter in text_invalid:\n",
    "    if letter not in brackets:\n",
    "        continue\n",
    "    if letter == '(':\n",
    "        opens['round'] += 1\n",
    "        last_open.append('round')\n",
    "    if letter == ')':\n",
    "        opens['round'] -= 1\n",
    "        if last_open.pop() != 'round':\n",
    "            print('ERROR')\n",
    "            break\n",
    "    if letter == '[':\n",
    "        opens['square'] += 1\n",
    "        last_open.append('square')\n",
    "    if letter == ']':\n",
    "        opens['square'] -= 1\n",
    "        if last_open.pop() != 'square':\n",
    "            print('ERROR')\n",
    "            break\n",
    "    if letter == '{':\n",
    "        opens['curly'] += 1\n",
    "        last_open.append('curly')\n",
    "    if letter == '}':\n",
    "        opens['curly'] -= 1\n",
    "        if last_open.pop() != 'curly':\n",
    "            print('ERROR')\n",
    "            break\n",
    "    if -1 in opens.values():\n",
    "        print('ERROR')\n",
    "        break"
   ],
   "metadata": {
    "id": "2-UCbTRQ6iK7"
   }
  },
  {
   "cell_type": "markdown",
   "source": [
    "## Task 07 – Queue\n",
    "Write a program that simulates a queue. It will read strings from the input. Consider these inputs as names of people coming to the end of a queue. Whenever “next” is given as input, the program will print out the name on the turn. The program finishes as soon as the queue is empty."
   ],
   "metadata": {
    "collapsed": false,
    "id": "tc-8rPlP6iK7"
   }
  },
  {
   "cell_type": "code",
   "execution_count": 77,
   "outputs": [
    {
     "name": "stdout",
     "output_type": "stream",
     "text": [
      "Chuck\n",
      "Charles\n",
      "Amartya\n"
     ]
    }
   ],
   "source": [
    "queue = []\n",
    "while True:\n",
    "    string = input('Enter \"next\" or the name of the next person:')\n",
    "    if string != \"next\":\n",
    "        queue.append(string)\n",
    "        continue\n",
    "    else:\n",
    "        print(queue[0])\n",
    "        queue = queue[1::]\n",
    "    if len(queue) == 0:\n",
    "        break"
   ],
   "metadata": {
    "id": "X0o04N6s6iK7"
   }
  },
  {
   "cell_type": "markdown",
   "source": [
    "## Task 08 – Unlimited Power\n",
    "Write a function with two arguments – $x$ and $n$. The function returns the value of $x^n$. Use [recursion](https://realpython.com/python-thinking-recursively/#recursive-data-structures-in-python)."
   ],
   "metadata": {
    "collapsed": false,
    "id": "eIhaN3g36iK8"
   }
  },
  {
   "cell_type": "code",
   "execution_count": 91,
   "outputs": [
    {
     "data": {
      "text/plain": "625"
     },
     "execution_count": 91,
     "metadata": {},
     "output_type": "execute_result"
    }
   ],
   "source": [
    "def power(x, n):\n",
    "    if n == 0:\n",
    "        return 1\n",
    "    elif n == 1:\n",
    "        return x * 1\n",
    "    return power(x*x, n-1)\n",
    "\n",
    "power(25, 2)"
   ],
   "metadata": {
    "id": "KSGHEAeL6iK8"
   }
  },
  {
   "cell_type": "markdown",
   "source": [
    "## Task 09 – Unlimited Power II\n",
    "Using function for factorial and function $x^n$ from previous task, write a program that reads value of $x$ and prints approximate value of $e^x$. Use this formula (Taylor series) for calculation\n",
    "$$ e^x = 1 + x + \\frac{x^2}{2!} + \\frac{x^3}{3!} + ... + \\frac{x^n}{n!} $$\n",
    "\n",
    "To get precise value of $e^x$, the series would have to be infinite. Suppose that there is some required accuracy, so the calculation finishes as soon as the value of the next element is smaller than given threshold (e.g., 0.000001)."
   ],
   "metadata": {
    "collapsed": false,
    "id": "WBh2WBXY6iK8"
   }
  },
  {
   "cell_type": "code",
   "execution_count": 133,
   "outputs": [
    {
     "data": {
      "text/plain": "2.7182815255731922"
     },
     "execution_count": 133,
     "metadata": {},
     "output_type": "execute_result"
    }
   ],
   "source": [
    "import math\n",
    "\n",
    "def exp(x):\n",
    "    i = 0\n",
    "    approximation = 0\n",
    "    while True:\n",
    "        next_term = power(x, i) / math.factorial(i) # we should use the built-in function '**' instead\n",
    "        if abs(next_term) <= 0.000001:\n",
    "            return approximation\n",
    "            break\n",
    "        else:\n",
    "            approximation += next_term\n",
    "        i += 1\n",
    "\n",
    "exp(1)"
   ],
   "metadata": {
    "id": "tRaZgBVX6iK9"
   }
  },
  {
   "cell_type": "markdown",
   "source": [
    "## Acknowledgements\n",
    "\n",
    "Redmond, Hsu, Saini, Gupta, Ramsey, Kondrich, Capoor, Cohen, Borus, Kincaid, Malik, and many others. - Stanford CS41"
   ],
   "metadata": {
    "collapsed": false,
    "id": "Wl9JCEYM6iK-"
   }
  },
  {
   "cell_type": "code",
   "execution_count": null,
   "outputs": [],
   "source": [],
   "metadata": {
    "id": "Bx-WQj4v6iK-"
   }
  }
 ],
 "metadata": {
  "kernelspec": {
   "display_name": "Python 3",
   "language": "python",
   "name": "python3"
  },
  "language_info": {
   "codemirror_mode": {
    "name": "ipython",
    "version": 2
   },
   "file_extension": ".py",
   "mimetype": "text/x-python",
   "name": "python",
   "nbconvert_exporter": "python",
   "pygments_lexer": "ipython2",
   "version": "2.7.6"
  },
  "colab": {
   "provenance": []
  }
 },
 "nbformat": 4,
 "nbformat_minor": 0
}
