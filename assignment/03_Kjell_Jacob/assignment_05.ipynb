{
 "cells": [
  {
   "cell_type": "markdown",
   "source": [
    "# Assignment 05\n",
    "#### Python Basics V - Text Processing\n",
    "\n",
    "This tutorial was written by Terry L. Ruas (University of Göttingen). The references for external contributors for which this material was anyhow adapted/inspired are in the Acknowledgments section (end of the document)."
   ],
   "metadata": {
    "collapsed": false,
    "id": "CyG8nU1B7btq"
   }
  },
  {
   "cell_type": "markdown",
   "source": [
    "This notebook will cover the following tasks:\n",
    "\n",
    "1. Text Pre-Processing\n",
    "2. Simple Text Analysis"
   ],
   "metadata": {
    "collapsed": false,
    "id": "fjMwJ_zg7btr"
   }
  },
  {
   "cell_type": "markdown",
   "source": [
    "## Task 01 – Text Pre-Processing\n",
    "A computational analysis of natural language text typically requires several pre-processing steps, such as excluding irrelevant text parts, separating the text into words, phrases, or sentences depending on the analysis use case, removing so-called stop words, i.e., words that contain little to no semantic meaning, and normalizing the texts, e.g., by removing punctuation and capitalization.\n",
    "\n",
    "Use the *download_file()* function developed in the past assignments to download the plain text versions of Shakespeare’s play [Macbeth](https://ia802707.us.archive.org/1/items/macbeth02264gut/0ws3410.txt) and Bacon’s [New Atlantis](https://ia801309.us.archive.org/24/items/newatlantis02434gut/nwatl10.txt). If you choose not to implement assignment 4, task 6, download the files manually. We will also provide some txt files.\n",
    "\n",
    "Inspect these real-world texts manually to get an idea of what needs to be done to clean and prepare\n",
    "the texts for computational analysis. Implement the following functions to perform common pre-processing steps on the texts:\n",
    "1. *get_speaker_text()* – returns only the text spoken by the characters in the plays and removes all other text in the files, such as:\n",
    "    - Information about the file, acknowledgements, copyright notices etc.\n",
    "    - Headings indicating the act and scene\n",
    "    - Stage instructions\n",
    "    - Character names\n",
    "2. *normalize_text()*\n",
    "    - converts all text to lower case\n",
    "    - removes all punctuation from the texts\n",
    "3. *remove_stopwords()* – eliminates all stop words that are part of the list of English stop words (we provide two lists of stopwords, try both and see how they perform)\n",
    "4. *tokenize_text()* – splits the cleaned text into words\n",
    "\n",
    "This program is a pre-req for the next one."
   ],
   "metadata": {
    "collapsed": false,
    "id": "zqcCFwVV7bts"
   }
  },
  {
   "cell_type": "code",
   "execution_count": 50,
   "outputs": [],
   "source": [
    "import string\n",
    "\n",
    "# read the list of stop words and delete trailing whitespaces\n",
    "stop_words = open(\"eng_stop_words.txt\", \"r\").readlines()\n",
    "stop_words = list(map(str.strip, stop_words))\n",
    "\n",
    "\n",
    "def get_speaker_text(play):\n",
    "    \"\"\"\n",
    "    Return only the text spoken by the characters in the plays and removes all other text in the files.\n",
    "    :param play: String of the whole play\n",
    "    :return dialog: Spoken text string.\n",
    "    \"\"\"\n",
    "\n",
    "    \"\"\"\n",
    "    I can not find a regular expression that does this job, for example macbeth.txt ll. 467-469\n",
    "\n",
    "    \"   King. So well thy words become thee, as thy wounds,\n",
    "    They smack of Honor both: Goe get him Surgeons.\n",
    "    Enter Rosse and Angus.\"\n",
    "\n",
    "    There are stage instructions placed like regular dialog.\n",
    "    \"\"\"\n",
    "    return play\n",
    "\n",
    "\n",
    "def normalize_text(text):\n",
    "    \"\"\"\n",
    "    Convert all text to lowercase and removes punctuation.\n",
    "    :param text: Text to be converted.\n",
    "    \"\"\"\n",
    "    text = text.lower()\n",
    "\n",
    "    text = text.translate(str.maketrans('', '', string.punctuation))\n",
    "\n",
    "    return text\n",
    "\n",
    "\n",
    "def remove_stopwords(text):\n",
    "    \"\"\"\n",
    "    Remove all stop words from a given string.\n",
    "    :param text: String of the text to be converted.\n",
    "    \"\"\"\n",
    "    text = text.split()\n",
    "\n",
    "    for stop_word in stop_words:\n",
    "        text = [word for word in text if word not in stop_words]\n",
    "\n",
    "    return \" \".join(text)\n",
    "\n",
    "\n",
    "def tokenize_text(text):\n",
    "    \"\"\"\n",
    "    Split string into words.\n",
    "    :param text: String to be converted.\n",
    "    \"\"\"\n",
    "    text = text.split()\n",
    "\n",
    "    return text\n",
    "\n"
   ],
   "metadata": {
    "id": "t5Mz4YP67btt"
   }
  },
  {
   "cell_type": "markdown",
   "source": [
    "## Task 02 – Classes\n",
    "The [Baconian theory](https://en.wikipedia.org/wiki/Baconian_theory_of_Shakespeare_authorship) holds that Sir Francis Bacon is the author of Shakespeare’s plays. We want to perform a very simple stylistic analysis between Shakespeare’s play Macbeth and Bacon’s New Atlantis. We check for words that frequently occur in both documents to see whether there are characteristic words that co-occur in the texts, which might give some support to the theory.\n",
    "\n",
    "Your Task:\n",
    "1. Download and pre-process the texts as follows:  \n",
    "  New Atlantis\n",
    "    1. *get_speaker_text()*\n",
    "    2. *normalize_text()*\n",
    "    3. *remove_stopwords()*\n",
    "    4. *tokenize_text()*\n",
    "  \n",
    "  Macbeth\n",
    "    1. *get_speaker_text()*\n",
    "    2. *normalize_text()*\n",
    "        1. *utils_ocr.correct_ocr_errors()* – we will provide a function to deal with OCR errors.\n",
    "    3. *remove_stopwords()*\n",
    "    4. *tokenize_text()*\n",
    "2. For the pre-processed texts, compute the list of word co-occurrence frequencies, i.e. which words occur in both documents and how often. Use the format:  \n",
    "[term , frequency_doc1 , frequency_doc2 , sum_of_frequencies]  \n",
    "Sort the list according to the sum of the frequencies in descending order.\n",
    "3. Use the csv library to store the ordered word co-occurrence frequency list in a CSV file. **You can zip the csv and upload it to GitHub.**"
   ],
   "metadata": {
    "collapsed": false,
    "id": "vcpnC_hq7btu"
   }
  },
  {
   "cell_type": "code",
   "execution_count": 72,
   "outputs": [],
   "source": [
    "import utils_ocr\n",
    "import csv\n",
    "\n",
    "# 1.\n",
    "# downloaded in assignment 04\n",
    "new_atlantis = open(\"new_atlantis.txt\", \"r\", errors=\"replace\").read()\n",
    "\n",
    "new_atlantis = get_speaker_text(new_atlantis)\n",
    "new_atlantis = normalize_text(new_atlantis)\n",
    "new_atlantis = remove_stopwords(new_atlantis)\n",
    "new_atlantis = tokenize_text(new_atlantis)\n",
    "\n",
    "# downloaded in assignment 04\n",
    "macbeth = open(\"macbeth.txt\", \"r\", errors=\"replace\").read()\n",
    "\n",
    "macbeth = get_speaker_text(macbeth)\n",
    "macbeth = normalize_text(macbeth)\n",
    "macbeth = utils_ocr.correct_ocr_errors(macbeth)\n",
    "macbeth = remove_stopwords(macbeth)\n",
    "macbeth = tokenize_text(macbeth)\n",
    "\n",
    "# 2.\n",
    "common_words = set(new_atlantis) & set(macbeth)\n",
    "\n",
    "co_occurrences = [\n",
    "    [word, macbeth.count(word), new_atlantis.count(word), macbeth.count(word) + new_atlantis.count(word)]\n",
    "    for word in common_words\n",
    "]\n",
    "\n",
    "co_occurrences.sort(reverse=True, key = lambda row: row[3])\n",
    "\n",
    "with open(\"co_occurrences.csv\", \"w\", newline=\"\") as f:\n",
    "    writer = csv.writer(f)\n",
    "    writer.writerows(co_occurrences)"
   ],
   "metadata": {
    "id": "LPkEibMM7btu"
   }
  },
  {
   "cell_type": "code",
   "execution_count": null,
   "outputs": [],
   "source": [],
   "metadata": {
    "collapsed": false
   }
  }
 ],
 "metadata": {
  "kernelspec": {
   "display_name": "Python 3",
   "language": "python",
   "name": "python3"
  },
  "language_info": {
   "codemirror_mode": {
    "name": "ipython",
    "version": 2
   },
   "file_extension": ".py",
   "mimetype": "text/x-python",
   "name": "python",
   "nbconvert_exporter": "python",
   "pygments_lexer": "ipython2",
   "version": "2.7.6"
  },
  "colab": {
   "provenance": []
  }
 },
 "nbformat": 4,
 "nbformat_minor": 0
}
