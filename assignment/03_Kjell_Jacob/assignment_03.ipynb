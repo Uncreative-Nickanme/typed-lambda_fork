{
 "cells": [
  {
   "cell_type": "markdown",
   "source": [
    "# Assignment 03\n",
    "#### Python Basics III - Functions and Classes\n",
    "\n",
    "This tutorial was written by Terry L. Ruas (University of Göttingen). The references for external contributors for which this material was anyhow adapted/inspired are in the Acknowledgments section (end of the document)."
   ],
   "metadata": {
    "collapsed": false,
    "id": "3i7Q6MM_7a82"
   }
  },
  {
   "cell_type": "markdown",
   "source": [
    "This notebook will cover the following tasks:\n",
    "\n",
    "1. Dictionary\n",
    "2. Classes"
   ],
   "metadata": {
    "collapsed": false,
    "id": "eKtTDCOS7a83"
   }
  },
  {
   "cell_type": "markdown",
   "source": [
    "## Task 01 – Dictionary\n",
    "Imagine you have to write a (very simple) bookkeepingsystem for a bank that keeps track of the account balances of each of its customers.\n",
    "1. Write a function that spans a dictionary holding a default balance of 0 for an initial list of customers. For simplicity, assume customer names are unique identifier.  (optional) Can you express that same functionality using a lambda function?\n",
    "2. What are elegant ways to add or remove single and multiple customers using the functionality of dict?\n",
    "3. Now write two simple functions that allow you to deposit and withdraw money for a given bank customer.\n",
    "4. Include error messages for inputs that are not permissible, e.g., withdrawing negative amounts or overdrawing the account, etc."
   ],
   "metadata": {
    "collapsed": false,
    "id": "XumFInmh7a85"
   }
  },
  {
   "cell_type": "code",
   "execution_count": 1,
   "outputs": [],
   "source": [
    "# 1.\n",
    "\n",
    "\n",
    "def default_balance(costumer_list):\n",
    "    return {costumer_name: 0 for costumer_name in costumer_list}\n",
    "\n",
    "\n",
    "# same functionality using lambda:\n",
    "default_balance_lambda = lambda *costumer_list: {costumer_name: 0 for costumer_name in costumer_list}\n",
    "\n",
    "balances = default_balance(['Chuck', 'George', 'Cathy', 'Amartya'])"
   ],
   "metadata": {
    "id": "aEr0j2IX7a85"
   }
  },
  {
   "cell_type": "markdown",
   "source": [
    "2. We can use ```dict.pop(key)``` or ```del dict[key]``` to remove a single costumer by using their name as a key. If we wanted to remove more than one costumer at a time, we should start by listing the names of the costumers we want to remove (e.g. by using a list): ```to_remove = ['Name1', 'Name2',..]```. Now we can use a list comprehension and one of the functions mentioned before on all elements of this list to remove those costumers: ```[balances.pop(name) for name in to_remove]```."
   ],
   "metadata": {
    "collapsed": false
   }
  },
  {
   "cell_type": "code",
   "execution_count": 2,
   "outputs": [],
   "source": [
    "# 3. and 4.\n",
    "\n",
    "\n",
    "def deposit(amount, costumer):\n",
    "    if amount >= 0:\n",
    "        balances[costumer] += amount\n",
    "    else:\n",
    "        raise ValueError('Error: You can only deposit positive amounts.')\n",
    "\n",
    "\n",
    "def withdraw(amount, costumer):\n",
    "    if amount >= 0:\n",
    "        if balances[costumer] >= amount:\n",
    "            balances[costumer] -= amount\n",
    "        else:\n",
    "            raise ValueError('Error: Insufficient funds.')\n",
    "    else:\n",
    "        raise ValueError('Error: You can only withdraw positive amounts.')\n",
    "\n"
   ],
   "metadata": {
    "collapsed": false
   }
  },
  {
   "cell_type": "markdown",
   "source": [
    "## Task 02 – Classes\n",
    "The manager thinks that the simple bookkeeping system you have built is not powerful enough. She requests that you start from scratch and use classes instead.\n",
    "1. Write a simple class with appropriate constructor *\\_\\_init\\_\\_* that initializes an object of class *Customer* tracking the same information as in Task 01.\n",
    "2. Now write two simple methods for class *Customer* that allow you to deposit and withdraw money for a given customer object.\n",
    "3. Include error messages for inputs that are not permissible, e.g., withdrawing negative amounts or overdrawing the account.\n",
    "4. (Inheritance) Write a child class *SavingsCustomer* that inherits its features from the parent class *Customer*. A savings customer has an extra savings balance for receiving extra interest. The class should have a method to transfer money back and forth between the accounts' main balance as well as the savings balance. Do not forget to add reasonable error messages."
   ],
   "metadata": {
    "collapsed": false,
    "id": "9tMOI3tn7a86"
   }
  },
  {
   "cell_type": "code",
   "execution_count": 3,
   "outputs": [],
   "source": [
    "# 1.-3.\n",
    "\n",
    "class Costumer:\n",
    "    def __init__(self, balance=0):\n",
    "        self.balance = balance\n",
    "\n",
    "\n",
    "    def deposit(self, amount):\n",
    "        if amount >= 0:\n",
    "            self.balance += amount\n",
    "        else:\n",
    "            raise ValueError('Error: You can only deposit positive amounts.')\n",
    "\n",
    "\n",
    "    def withdraw(self, amount):\n",
    "        if amount >= 0:\n",
    "            if self.balance >= amount:\n",
    "                self.balance -= amount\n",
    "            else:\n",
    "                raise ValueError('Error: Insufficient funds.')\n",
    "        else:\n",
    "            raise ValueError('Error: You can only withdraw positive amounts.')\n",
    "\n",
    "# 4.\n",
    "class SavingsCostumer(Costumer):\n",
    "    def __init__(self, balance=0, savings_balance=0):\n",
    "        super().__init__(balance)\n",
    "        self.savings_balance = savings_balance\n",
    "\n",
    "\n",
    "    def to_savings(self, amount):\n",
    "        if amount <= self.balance:\n",
    "            self.balance -= amount\n",
    "            self.savings_balance += amount\n",
    "        else:\n",
    "            raise ValueError('Error: Insufficient funds in main account.')\n",
    "\n",
    "\n",
    "    def to_main(self, amount):\n",
    "        if amount <= self.savings_balance:\n",
    "            self.savings_balance -= amount\n",
    "            self.balance += amount\n",
    "        else:\n",
    "            raise ValueError('Error: Insufficient funds in savings acount.')\n",
    "\n"
   ],
   "metadata": {
    "id": "mcZ6wBOO7a86"
   }
  },
  {
   "cell_type": "code",
   "execution_count": null,
   "outputs": [],
   "source": [],
   "metadata": {
    "collapsed": false
   }
  }
 ],
 "metadata": {
  "kernelspec": {
   "display_name": "Python 3",
   "language": "python",
   "name": "python3"
  },
  "language_info": {
   "codemirror_mode": {
    "name": "ipython",
    "version": 2
   },
   "file_extension": ".py",
   "mimetype": "text/x-python",
   "name": "python",
   "nbconvert_exporter": "python",
   "pygments_lexer": "ipython2",
   "version": "2.7.6"
  },
  "colab": {
   "provenance": []
  }
 },
 "nbformat": 4,
 "nbformat_minor": 0
}
