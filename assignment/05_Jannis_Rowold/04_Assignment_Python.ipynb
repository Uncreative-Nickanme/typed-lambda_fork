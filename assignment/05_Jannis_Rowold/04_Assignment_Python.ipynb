{
 "cells": [
  {
   "cell_type": "markdown",
   "metadata": {
    "id": "_ikvQGPR7a99"
   },
   "source": [
    "# Assignment 04\n",
    "#### Python Basics IV - Functions, Unity Testing, and Logging\n",
    "\n",
    "This tutorial was written by Terry L. Ruas (University of Göttingen). The references for external contributors for which this material was anyhow adapted/inspired are in the Acknowledgments section (end of the document)."
   ]
  },
  {
   "cell_type": "markdown",
   "metadata": {
    "id": "SchiSV187a9-"
   },
   "source": [
    "This notebook will cover the following tasks:\n",
    "\n",
    "1. Lambda functions\n",
    "2. List comprehensions\n",
    "3. Unity Test\n",
    "4. HTTP Request\n",
    "5. Logging\n",
    "6. Download File"
   ]
  },
  {
   "cell_type": "markdown",
   "metadata": {
    "id": "QOoNCxgu7a-A"
   },
   "source": [
    "## Task 01 – Lambda functions\n",
    "Python supports lambda functions as a handy way to define small, anonymous, i.e., unnamed, functions inline. The basic syntax for lambda functions is:\n",
    "$$\n",
    " \\textbf{lambda}\\text{ parameter1, parameter2, ... : }\\textbf{expression}\n",
    "$$\n",
    "Use a lambda function only to retain the even values in an array of integers. Test your function with an input array of your choosing. Print the input array and the filtered output array to stdout."
   ]
  },
  {
   "cell_type": "code",
   "execution_count": 1,
   "metadata": {
    "id": "5keoJAOw7a-B"
   },
   "outputs": [
    {
     "name": "stdout",
     "output_type": "stream",
     "text": [
      "[0, 2, 4, 6, 8, 10, 12, 14, 16, 18]\n"
     ]
    }
   ],
   "source": [
    "import numpy as np\n",
    "even = lambda x: [i for i in x if i%2 == 0]\n",
    "print(even(np.arange(20)))"
   ]
  },
  {
   "cell_type": "markdown",
   "metadata": {
    "id": "XSyLzHT17a-B"
   },
   "source": [
    "## Task 02 – List comprehensions\n",
    "Python supports list comprehension. The basic syntax of list comprehensions is:\n",
    "$$\n",
    "\\text{L = [<elem> for <elem> <Condition>]}\n",
    "$$\n",
    "Use list comprehensions to write a Python function *remove_long_words()* that:\n",
    "- accepts a sentence s and an integer n as input parameters\n",
    "- uses the *split()* function of String objects to split the sentence into words\n",
    "- stores the individual words in a list\n",
    "- removes all words that are longer than n characters from the list, thereby creating a new list\n",
    "- prints the list to stdout"
   ]
  },
  {
   "cell_type": "code",
   "execution_count": 2,
   "metadata": {
    "id": "hT-mGe_T7a-B"
   },
   "outputs": [
    {
     "name": "stdout",
     "output_type": "stream",
     "text": [
      "['This', 'some', 'than', '4']\n"
     ]
    }
   ],
   "source": [
    "def remove_long_words(s, n ):\n",
    "    words = s.split(\" \")\n",
    "    remove = [word for word in words if len(word) <= n]\n",
    "    print(remove)\n",
    "    \n",
    "remove_long_words(\"This sentence contains some words greater than 4 letters\", 4)"
   ]
  },
  {
   "cell_type": "markdown",
   "metadata": {
    "id": "_QHEBddh7a-C"
   },
   "source": [
    "## Task 03 – Unity Test\n",
    "The following algorithm in Python converts numbers in decimal representation to binary.\n",
    "1. Develop a unit test that checks for values in the interval \\[-1,3\\] whether the algorithm returns the\n",
    "expected results.\n",
    "2. Adjust the algorithm, so it passes the unit test developed in 1). Rename the function to\n",
    "*decimal_to_binary_correct()*"
   ]
  },
  {
   "cell_type": "code",
   "execution_count": 3,
   "metadata": {
    "id": "IdFKIU4u7a-C"
   },
   "outputs": [
    {
     "name": "stdout",
     "output_type": "stream",
     "text": [
      "0.5992\n",
      "1.0\n"
     ]
    }
   ],
   "source": [
    "import math\n",
    "num = 100000\n",
    "interval = [-1,3]\n",
    "\n",
    "def unit_test(n,interval,f):\n",
    "    result = np.zeros(n)\n",
    "    rand_int = np.random.randint(interval[0],interval[1]+1,size=n)\n",
    "    for i in range(n):\n",
    "        binary = \"\".join(str(c) for c in f(rand_int[i]))\n",
    "        result[i] = \"{0:b}\".format(rand_int[i]) == binary\n",
    "    return np.count_nonzero(result) / n\n",
    "\n",
    "        \n",
    "def decimal2binary(n):\n",
    "    # function to convert decimal integers to binary\n",
    "    x = []\n",
    "    while n > 0:\n",
    "        x.append(n % 2)\n",
    "        n = math.floor(n/2)\n",
    "    return x[::-1]\n",
    "\n",
    "print(unit_test(num,interval,decimal2binary))\n",
    "\n",
    "def decimal_to_binary_correc(n):\n",
    "    # function to convert decimal integers to binary\n",
    "    x = []\n",
    "    ret = []\n",
    "    if n < 0:\n",
    "        ret.append(\"-\")\n",
    "        n*=-1\n",
    "    elif n == 0:\n",
    "        ret.append(\"0\")\n",
    "    while n > 0:\n",
    "        x.append(n % 2)\n",
    "        n = math.floor(n/2)\n",
    "    return ret + x[::-1]\n",
    "\n",
    "print(unit_test(num,interval,decimal_to_binary_correc))"
   ]
  },
  {
   "cell_type": "markdown",
   "metadata": {
    "id": "iNLOQ5y47a-E"
   },
   "source": [
    "## Task 04 – HTTP Request\n",
    "Working with HTTP connections is essential for many data gathering tasks. The Python library *urllib* provides all functionality we need.\n",
    "Write a Python function *open_url(url)* that:\n",
    "- uses urllib to establish a HTTP connection to an arbitrary website\n",
    "- retrieves and prints the first 200 characters of the html resource, i.e. the html source code, of the chosen website\n",
    "- handles the exceptions thrown by the *urllib.request* function\n",
    "\n",
    "FYI: The basic syntax for exception handling in Python is as follows:\n",
    "```\n",
    "try:\n",
    "    ...\n",
    "    return ...\n",
    "except SomeError1 as e:\n",
    "    # error-specific exception handling\n",
    "except SomeError2 as e:\n",
    "    # error-specific exception handling\n",
    "except\n",
    "    # general exception handling\n",
    "```"
   ]
  },
  {
   "cell_type": "code",
   "execution_count": null,
   "metadata": {
    "id": "NaCXxVlB7a-E"
   },
   "outputs": [
    {
     "name": "stdout",
     "output_type": "stream",
     "text": [
      "Not Found\n",
      "b'\\n<!DOCTYPE html>\\n\\n<html lang=\"en\">\\n  <head>\\n    <meta charset=\"utf-8\" />\\n    <meta name=\"viewport\" content=\"width=device-width, initial-scale=1.0\" /><meta name=\"generator\" content=\"Docutils 0.17.1: ht'\n"
     ]
    }
   ],
   "source": [
    "import urllib\n",
    "\n",
    "url = \"https://jax.readthedocs.io/en/latest/_autosummary/jax.vmap.htmlwrong\"\n",
    "url2 = \"https://jax.readthedocs.io/en/latest/_autosummary/jax.vmap.html\"\n",
    "\n",
    "def read_200(url):\n",
    "    con = None\n",
    "    try:\n",
    "        con = urllib.request.urlopen(url)\n",
    "    except urllib.error.URLError as e:\n",
    "        Error = e.reason\n",
    "        print(Error)\n",
    "    except:\n",
    "        print(\"Could not connect\")\n",
    "\n",
    "    if con:\n",
    "        read = con.read()[:200]\n",
    "        print(read)\n",
    "        con.close()\n",
    "        \n",
    "read_200(url)\n",
    "read_200(url2)"
   ]
  },
  {
   "cell_type": "markdown",
   "metadata": {
    "id": "ogac-RcI7a-F"
   },
   "source": [
    "## Task 05 – Logging\n",
    "The logging module in Python provides functionality for logging and debugging purposes. Use the logging module to extend the error handling for the function that you implemented to establish a HTTP connection (Task 4). All exceptions thrown by your function shall be logged as errors.\n",
    "\n",
    "To accomplish the task:\n",
    "- write a Python function *init_log(file_name, file_mode, level, format, date_format)* that initializes a custom log file to which all debugging information and errors are appended using a format that includes the date, time, level and the message of the logging event\n",
    "- log occurring errors by calling *logging.error(...)*\n",
    "- close the log after completing your task by calling *logging.shutdown()*\n",
    "\n",
    "If you choose not to complete Tasks 4, test the logging functionality with a few examples of your own."
   ]
  },
  {
   "cell_type": "code",
   "execution_count": 27,
   "metadata": {
    "id": "hT8RvjYU7a-F"
   },
   "outputs": [
    {
     "name": "stdout",
     "output_type": "stream",
     "text": [
      "Not Found\n",
      "b'\\n<!DOCTYPE html>\\n\\n<html lang=\"en\">\\n  <head>\\n    <meta charset=\"utf-8\" />\\n    <meta name=\"viewport\" content=\"width=device-width, initial-scale=1.0\" /><meta name=\"generator\" content=\"Docutils 0.17.1: ht'\n"
     ]
    }
   ],
   "source": [
    "import logging\n",
    "\n",
    "def init_log(file_name, file_mode, level, format_ = '%(asctime)s %(levelname)s %(message)s'):\n",
    "    logging.basicConfig(filename=file_name, filemode = file_mode, format=format_)\n",
    "\n",
    "init_log(\"logfile.txt\",\"a\", logging.ERROR)\n",
    "\n",
    "def read_200(url):\n",
    "    con = None\n",
    "    try:\n",
    "        con = urllib.request.urlopen(url)\n",
    "    except urllib.error.URLError as e:\n",
    "        Error = e.reason\n",
    "        print(Error)\n",
    "        logging.error(Error)\n",
    "    except:\n",
    "        print(\"Could not connect\")\n",
    "        logging.error(\"Could not connect\")\n",
    "\n",
    "    if con:\n",
    "        read = con.read()[:200]\n",
    "        print(read)\n",
    "        con.close()\n",
    "\n",
    "        \n",
    "read_200(url)\n",
    "read_200(url2)"
   ]
  },
  {
   "cell_type": "markdown",
   "metadata": {
    "id": "FFvlZPUc7a-G"
   },
   "source": [
    "## Task 06 – Download File\n",
    "In Task 4, you used the *urllib* library to establish a http connection. You can also use the *urllib* library to perform simple file downloads.\n",
    "\n",
    "Write a Python function *download_file(url, path)* that:\n",
    "- checks whether the input URL points to a .txt file\n",
    "- if the input URL points to a .txt file, uses the *urllib* library to download and write the text file to the given path on your machine\n",
    "- logs an error “No text file found at given URL, download aborted!” to the log file created in Task 5 if the input URL does not point to a .txt file.\n",
    "- properly handles exceptions\n",
    "\n",
    "Use the *download_file()* function to download William Shakespeare’s drama Macbeth as a plain\n",
    "text file from: [Macbeth](https://ia802707.us.archive.org/1/items/macbeth02264gut/0ws3410.txt)"
   ]
  },
  {
   "cell_type": "code",
   "execution_count": 41,
   "metadata": {
    "id": "3L-DwhcZ7a-G"
   },
   "outputs": [],
   "source": [
    "import requests\n",
    "\n",
    "url = \"https://ia802707.us.archive.org/1/items/macbeth02264gut/0ws3410.txt\"\n",
    "\n",
    "def download_file(url, path):\n",
    "    if not url.endswith(\".txt\"):\n",
    "        logging.error(\"Does not point to .txt file\")\n",
    "        return\n",
    "    con = None\n",
    "    try:\n",
    "        con = urllib.request.urlopen(url)\n",
    "    except urllib.error.URLError as e:\n",
    "        Error = e.reason\n",
    "        print(Error)\n",
    "        logging.error(Error)\n",
    "    except:\n",
    "        print(\"Could not connect\")\n",
    "        logging.error(\"Could not connect\")\n",
    "        \n",
    "    if con:\n",
    "        urllib.request.urlretrieve(url, path)\n",
    "    \n",
    "download_file(url,\"macbeth.txt\")\n",
    "download_file(\"https://ia801309.us.archive.org/24/items/newatlantis02434gut/nwatl10.txt\",\"atlantis.txt\")"
   ]
  },
  {
   "cell_type": "code",
   "execution_count": null,
   "metadata": {},
   "outputs": [],
   "source": []
  }
 ],
 "metadata": {
  "colab": {
   "provenance": []
  },
  "kernelspec": {
   "display_name": "Python 3 (ipykernel)",
   "language": "python",
   "name": "python3"
  },
  "language_info": {
   "codemirror_mode": {
    "name": "ipython",
    "version": 3
   },
   "file_extension": ".py",
   "mimetype": "text/x-python",
   "name": "python",
   "nbconvert_exporter": "python",
   "pygments_lexer": "ipython3",
   "version": "3.10.6"
  }
 },
 "nbformat": 4,
 "nbformat_minor": 4
}
